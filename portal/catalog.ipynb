{
 "cells": [
  {
   "cell_type": "raw",
   "metadata": {},
   "source": [
    "---\n",
    "title: \"Catalog\"\n",
    "format:\n",
    "    html:\n",
    "        toc: true\n",
    "        toc-depth: 1\n",
    "        page-layout: full\n",
    "        anchor-sections: true\n",
    "execute:\n",
    "  enabled: true\n",
    "  echo: false\n",
    "---"
   ]
  },
  {
   "cell_type": "markdown",
   "metadata": {},
   "source": [
    "<a \n",
    "    target=\"_blank\" \n",
    "    href=\"https://colab.research.google.com/github/davidgasquez/gitcoin-grants-data-portal/blob/main/notebooks/sandbox.ipynb\"> \n",
    "    <img src=\"https://colab.research.google.com/assets/colab-badge.svg\" alt=\"Open In Colab\"/>\n",
    "</a>"
   ]
  },
  {
   "cell_type": "markdown",
   "metadata": {},
   "source": [
    "Following parquet files can be accessed from `ipfs`, see the [**homepage**](/) for instructions.\n",
    "\n",
    "Raw files are direct result of API fetch, while processed files have been cleaned and normalized. \n",
    "\n",
    "Current convention for processed files is to store `address` in lowercase format. Columns are renamed to `snake_case`. "
   ]
  },
  {
   "cell_type": "markdown",
   "metadata": {},
   "source": [
    "#### File listing"
   ]
  },
  {
   "cell_type": "code",
   "execution_count": 1,
   "metadata": {},
   "outputs": [],
   "source": [
    "from IPython.display import Markdown, display\n",
    "\n",
    "\n",
    "def md(content):\n",
    "    display(Markdown(content))"
   ]
  },
  {
   "cell_type": "code",
   "execution_count": 2,
   "metadata": {
    "tags": [
     "hide_input"
    ]
   },
   "outputs": [
    {
     "data": {
      "text/markdown": [
       "**Processed Files:**   "
      ],
      "text/plain": [
       "<IPython.core.display.Markdown object>"
      ]
     },
     "metadata": {},
     "output_type": "display_data"
    },
    {
     "data": {
      "text/markdown": [
       "[allo_applications.parquet](#allo_applications.parquet)  "
      ],
      "text/plain": [
       "<IPython.core.display.Markdown object>"
      ]
     },
     "metadata": {},
     "output_type": "display_data"
    },
    {
     "data": {
      "text/markdown": [
       "[allo_deployments.parquet](#allo_deployments.parquet)  "
      ],
      "text/plain": [
       "<IPython.core.display.Markdown object>"
      ]
     },
     "metadata": {},
     "output_type": "display_data"
    },
    {
     "data": {
      "text/markdown": [
       "[allo_donations.parquet](#allo_donations.parquet)  "
      ],
      "text/plain": [
       "<IPython.core.display.Markdown object>"
      ]
     },
     "metadata": {},
     "output_type": "display_data"
    },
    {
     "data": {
      "text/markdown": [
       "[allo_prices.parquet](#allo_prices.parquet)  "
      ],
      "text/plain": [
       "<IPython.core.display.Markdown object>"
      ]
     },
     "metadata": {},
     "output_type": "display_data"
    },
    {
     "data": {
      "text/markdown": [
       "[allo_projects.parquet](#allo_projects.parquet)  "
      ],
      "text/plain": [
       "<IPython.core.display.Markdown object>"
      ]
     },
     "metadata": {},
     "output_type": "display_data"
    },
    {
     "data": {
      "text/markdown": [
       "[allo_rounds.parquet](#allo_rounds.parquet)  "
      ],
      "text/plain": [
       "<IPython.core.display.Markdown object>"
      ]
     },
     "metadata": {},
     "output_type": "display_data"
    },
    {
     "data": {
      "text/markdown": [
       "[allo_subscriptions.parquet](#allo_subscriptions.parquet)  "
      ],
      "text/plain": [
       "<IPython.core.display.Markdown object>"
      ]
     },
     "metadata": {},
     "output_type": "display_data"
    },
    {
     "data": {
      "text/markdown": [
       "[application_answers.parquet](#application_answers.parquet)  "
      ],
      "text/plain": [
       "<IPython.core.display.Markdown object>"
      ]
     },
     "metadata": {},
     "output_type": "display_data"
    },
    {
     "data": {
      "text/markdown": [
       "[chain_metadata.parquet](#chain_metadata.parquet)  "
      ],
      "text/plain": [
       "<IPython.core.display.Markdown object>"
      ]
     },
     "metadata": {},
     "output_type": "display_data"
    },
    {
     "data": {
      "text/markdown": [
       "[gitcoin_passport_scores.parquet](#gitcoin_passport_scores.parquet)  "
      ],
      "text/plain": [
       "<IPython.core.display.Markdown object>"
      ]
     },
     "metadata": {},
     "output_type": "display_data"
    },
    {
     "data": {
      "text/markdown": [
       "[giveth_projects.parquet](#giveth_projects.parquet)  "
      ],
      "text/plain": [
       "<IPython.core.display.Markdown object>"
      ]
     },
     "metadata": {},
     "output_type": "display_data"
    },
    {
     "data": {
      "text/markdown": [
       "[public_ethereum_project_registry_tx.parquet](#public_ethereum_project_registry_tx.parquet)  "
      ],
      "text/plain": [
       "<IPython.core.display.Markdown object>"
      ]
     },
     "metadata": {},
     "output_type": "display_data"
    },
    {
     "name": "stdout",
     "output_type": "stream",
     "text": [
      "\n"
     ]
    },
    {
     "data": {
      "text/markdown": [
       "**Raw Files:**   "
      ],
      "text/plain": [
       "<IPython.core.display.Markdown object>"
      ]
     },
     "metadata": {},
     "output_type": "display_data"
    },
    {
     "data": {
      "text/markdown": [
       "[public_raw_allo_applications.parquet](#public_raw_allo_applications.parquet)  "
      ],
      "text/plain": [
       "<IPython.core.display.Markdown object>"
      ]
     },
     "metadata": {},
     "output_type": "display_data"
    },
    {
     "data": {
      "text/markdown": [
       "[public_raw_allo_deployments.parquet](#public_raw_allo_deployments.parquet)  "
      ],
      "text/plain": [
       "<IPython.core.display.Markdown object>"
      ]
     },
     "metadata": {},
     "output_type": "display_data"
    },
    {
     "data": {
      "text/markdown": [
       "[public_raw_allo_donations.parquet](#public_raw_allo_donations.parquet)  "
      ],
      "text/plain": [
       "<IPython.core.display.Markdown object>"
      ]
     },
     "metadata": {},
     "output_type": "display_data"
    },
    {
     "data": {
      "text/markdown": [
       "[public_raw_allo_prices.parquet](#public_raw_allo_prices.parquet)  "
      ],
      "text/plain": [
       "<IPython.core.display.Markdown object>"
      ]
     },
     "metadata": {},
     "output_type": "display_data"
    },
    {
     "data": {
      "text/markdown": [
       "[public_raw_allo_projects.parquet](#public_raw_allo_projects.parquet)  "
      ],
      "text/plain": [
       "<IPython.core.display.Markdown object>"
      ]
     },
     "metadata": {},
     "output_type": "display_data"
    },
    {
     "data": {
      "text/markdown": [
       "[public_raw_allo_round_roles.parquet](#public_raw_allo_round_roles.parquet)  "
      ],
      "text/plain": [
       "<IPython.core.display.Markdown object>"
      ]
     },
     "metadata": {},
     "output_type": "display_data"
    },
    {
     "data": {
      "text/markdown": [
       "[public_raw_allo_rounds.parquet](#public_raw_allo_rounds.parquet)  "
      ],
      "text/plain": [
       "<IPython.core.display.Markdown object>"
      ]
     },
     "metadata": {},
     "output_type": "display_data"
    },
    {
     "data": {
      "text/markdown": [
       "[public_raw_allo_subscriptions.parquet](#public_raw_allo_subscriptions.parquet)  "
      ],
      "text/plain": [
       "<IPython.core.display.Markdown object>"
      ]
     },
     "metadata": {},
     "output_type": "display_data"
    },
    {
     "data": {
      "text/markdown": [
       "[public_raw_chain_metadata.parquet](#public_raw_chain_metadata.parquet)  "
      ],
      "text/plain": [
       "<IPython.core.display.Markdown object>"
      ]
     },
     "metadata": {},
     "output_type": "display_data"
    },
    {
     "data": {
      "text/markdown": [
       "[public_raw_discourse_categories.parquet](#public_raw_discourse_categories.parquet)  "
      ],
      "text/plain": [
       "<IPython.core.display.Markdown object>"
      ]
     },
     "metadata": {},
     "output_type": "display_data"
    },
    {
     "data": {
      "text/markdown": [
       "[public_raw_gitcoin_passport_scores.parquet](#public_raw_gitcoin_passport_scores.parquet)  "
      ],
      "text/plain": [
       "<IPython.core.display.Markdown object>"
      ]
     },
     "metadata": {},
     "output_type": "display_data"
    },
    {
     "data": {
      "text/markdown": [
       "[public_raw_giveth_projects.parquet](#public_raw_giveth_projects.parquet)  "
      ],
      "text/plain": [
       "<IPython.core.display.Markdown object>"
      ]
     },
     "metadata": {},
     "output_type": "display_data"
    }
   ],
   "source": [
    "# | output: asis\n",
    "\n",
    "import os\n",
    "\n",
    "# Make sure to `make export-db`\n",
    "EXPORT_PATH = os.path.join(\"..\", \"data/tables\")\n",
    "EXTENSIONS = \".parquet\"\n",
    "\n",
    "raw_files = []\n",
    "processed_files = []\n",
    "\n",
    "for file in os.listdir(EXPORT_PATH):\n",
    "    if file.endswith(EXTENSIONS):\n",
    "        if file.startswith(\"public_raw\"):\n",
    "            raw_files.append(file)\n",
    "        else:\n",
    "            processed_files.append(file)\n",
    "\n",
    "\n",
    "def print_section(section_header: str, file_list):\n",
    "    md(f\"**{section_header}**   \")\n",
    "    for file in file_list:\n",
    "        md(f\"[{file}](#{file})  \")\n",
    "\n",
    "\n",
    "raw_files = sorted(raw_files)\n",
    "processed_files = sorted(processed_files)\n",
    "\n",
    "print_section(\"Processed Files:\", processed_files)\n",
    "print()\n",
    "print_section(\"Raw Files:\", raw_files)"
   ]
  },
  {
   "cell_type": "markdown",
   "metadata": {},
   "source": [
    "For each of the files you can find sample rows, and schema below."
   ]
  },
  {
   "cell_type": "markdown",
   "metadata": {},
   "source": [
    "## Processed Files"
   ]
  },
  {
   "cell_type": "code",
   "execution_count": 3,
   "metadata": {},
   "outputs": [
    {
     "data": {
      "text/markdown": [
       "## [allo_applications.parquet](#file-listing)"
      ],
      "text/plain": [
       "<IPython.core.display.Markdown object>"
      ]
     },
     "metadata": {},
     "output_type": "display_data"
    },
    {
     "data": {
      "text/markdown": [
       "anchor_address: string<br>chain_id: string<br>created_at_block: string<br>created_by_address: string<br>id: string<br>metadata: string<br>metadata_signature: string<br>metadata_application_recipient: string<br>metadata_cid: string<br>node_id: string<br>project_id: string<br>round_id: string<br>status: string<br>status_snapshots: list<element: struct<status: string, statusUpdatedAtBlock: struct<type: string, value: string>>><br>  child 0, element: struct<status: string, statusUpdatedAtBlock: struct<type: string, value: string>><br>      child 0, status: string<br>      child 1, statusUpdatedAtBlock: struct<type: string, value: string><br>          child 0, type: string<br>          child 1, value: string<br>status_updated_at_block: string<br>tags: list<element: string><br>  child 0, element: string<br>total_amount_donated_in_usd: double<br>total_donations_count: int64<br>unique_donors_count: int64"
      ],
      "text/plain": [
       "<IPython.core.display.Markdown object>"
      ]
     },
     "metadata": {},
     "output_type": "display_data"
    },
    {
     "data": {
      "text/html": [
       "<div>\n",
       "<style scoped>\n",
       "    .dataframe tbody tr th:only-of-type {\n",
       "        vertical-align: middle;\n",
       "    }\n",
       "\n",
       "    .dataframe tbody tr th {\n",
       "        vertical-align: top;\n",
       "    }\n",
       "\n",
       "    .dataframe thead th {\n",
       "        text-align: right;\n",
       "    }\n",
       "</style>\n",
       "<table border=\"1\" class=\"dataframe\">\n",
       "  <thead>\n",
       "    <tr style=\"text-align: right;\">\n",
       "      <th></th>\n",
       "      <th>anchor_address</th>\n",
       "      <th>chain_id</th>\n",
       "      <th>created_at_block</th>\n",
       "      <th>created_by_address</th>\n",
       "      <th>id</th>\n",
       "      <th>metadata</th>\n",
       "      <th>metadata_signature</th>\n",
       "      <th>metadata_application_recipient</th>\n",
       "      <th>metadata_cid</th>\n",
       "      <th>node_id</th>\n",
       "      <th>project_id</th>\n",
       "      <th>round_id</th>\n",
       "      <th>status</th>\n",
       "      <th>status_snapshots</th>\n",
       "      <th>status_updated_at_block</th>\n",
       "      <th>tags</th>\n",
       "      <th>total_amount_donated_in_usd</th>\n",
       "      <th>total_donations_count</th>\n",
       "      <th>unique_donors_count</th>\n",
       "    </tr>\n",
       "  </thead>\n",
       "  <tbody>\n",
       "    <tr>\n",
       "      <th>0</th>\n",
       "      <td>None</td>\n",
       "      <td>1</td>\n",
       "      <td>17787259</td>\n",
       "      <td>0xf2af41a645f7b439ed4c9149d1ce687d33181b93</td>\n",
       "      <td>0</td>\n",
       "      <td>{\"signature\": \"0x471f4b214d70e1fc15dbfe7e8f4a5...</td>\n",
       "      <td>0x471f4b214d70e1fc15dbfe7e8f4a57f5e493c0cf5dd2...</td>\n",
       "      <td>0xf2af41a645f7b439ed4c9149d1ce687d33181b93</td>\n",
       "      <td>bafkreiawz7cmcfmydfhtmro2oluzuzvfzsbs7idihxzjh...</td>\n",
       "      <td>WyJhcHBsaWNhdGlvbnMiLDEsIjB4MDVkZjc2YmM0NDZjZW...</td>\n",
       "      <td>0xb25b0a149ce400e9c5906308a7079da37a99c0cab0aa...</td>\n",
       "      <td>0x05df76bc446cee7ad536e2d23c128c9c8909cf7b</td>\n",
       "      <td>PENDING</td>\n",
       "      <td>[{'status': 'PENDING', 'statusUpdatedAtBlock':...</td>\n",
       "      <td>17787259</td>\n",
       "      <td>[allo-v1]</td>\n",
       "      <td>0.00000</td>\n",
       "      <td>0</td>\n",
       "      <td>0</td>\n",
       "    </tr>\n",
       "    <tr>\n",
       "      <th>1</th>\n",
       "      <td>None</td>\n",
       "      <td>1</td>\n",
       "      <td>17802994</td>\n",
       "      <td>0x6da84e637ffb51c69de568a11828a30b4886d5cb</td>\n",
       "      <td>1</td>\n",
       "      <td>{\"signature\": \"0x69d0a4b51f548782de428ed699408...</td>\n",
       "      <td>0x69d0a4b51f548782de428ed699408f3db1d113bd1fc5...</td>\n",
       "      <td>0x6da84e637ffb51c69de568a11828a30b4886d5cb</td>\n",
       "      <td>bafkreifegp2jfsgidvve6xednoixiryjawro3fmfkiz3q...</td>\n",
       "      <td>WyJhcHBsaWNhdGlvbnMiLDEsIjB4MDVkZjc2YmM0NDZjZW...</td>\n",
       "      <td>0xaebed2cd5ab824350703b4d037ace0e3c23607e4e501...</td>\n",
       "      <td>0x05df76bc446cee7ad536e2d23c128c9c8909cf7b</td>\n",
       "      <td>PENDING</td>\n",
       "      <td>[{'status': 'PENDING', 'statusUpdatedAtBlock':...</td>\n",
       "      <td>17802994</td>\n",
       "      <td>[allo-v1]</td>\n",
       "      <td>0.00000</td>\n",
       "      <td>0</td>\n",
       "      <td>0</td>\n",
       "    </tr>\n",
       "    <tr>\n",
       "      <th>2</th>\n",
       "      <td>None</td>\n",
       "      <td>1</td>\n",
       "      <td>17031319</td>\n",
       "      <td>0xff2abef3af9655d96da983916e066134adea6390</td>\n",
       "      <td>0</td>\n",
       "      <td>{\"signature\": \"0x4c3db176694bdfc0f9e4a04738205...</td>\n",
       "      <td>0x4c3db176694bdfc0f9e4a04738205d562ef31a026699...</td>\n",
       "      <td>0xff2abef3af9655d96da983916e066134adea6390</td>\n",
       "      <td>bafkreibopq7uesrp5amqsqnyrwmfikem5iweivwbkzyht...</td>\n",
       "      <td>WyJhcHBsaWNhdGlvbnMiLDEsIjB4MTJiYjViYmJmZTU5Nm...</td>\n",
       "      <td>0x6aeb3ddab061203d32594b03901bf458679a66fbeab9...</td>\n",
       "      <td>0x12bb5bbbfe596dbc489d209299b8302c3300fa40</td>\n",
       "      <td>APPROVED</td>\n",
       "      <td>[{'status': 'PENDING', 'statusUpdatedAtBlock':...</td>\n",
       "      <td>17170541</td>\n",
       "      <td>[allo-v1]</td>\n",
       "      <td>876.12115</td>\n",
       "      <td>216</td>\n",
       "      <td>211</td>\n",
       "    </tr>\n",
       "    <tr>\n",
       "      <th>3</th>\n",
       "      <td>None</td>\n",
       "      <td>1</td>\n",
       "      <td>17033387</td>\n",
       "      <td>0xb17b3e7910af9d232cb683c083ef73c34521fc8a</td>\n",
       "      <td>1</td>\n",
       "      <td>{\"signature\": \"0xc9f5e29fcb4db0b0c9a5909f68c16...</td>\n",
       "      <td>0xc9f5e29fcb4db0b0c9a5909f68c162ea5d16a275f705...</td>\n",
       "      <td>0x690315449efad5f8b06a356f16eecfc41f475f70</td>\n",
       "      <td>bafkreiazdoqxpfeeazyfonpnzgpfd5rfa5aukq5jkmkhd...</td>\n",
       "      <td>WyJhcHBsaWNhdGlvbnMiLDEsIjB4MTJiYjViYmJmZTU5Nm...</td>\n",
       "      <td>0xdeffc2d190ddec88d06ba86e1eb09abe5a9ccb49ab1d...</td>\n",
       "      <td>0x12bb5bbbfe596dbc489d209299b8302c3300fa40</td>\n",
       "      <td>APPROVED</td>\n",
       "      <td>[{'status': 'PENDING', 'statusUpdatedAtBlock':...</td>\n",
       "      <td>17170541</td>\n",
       "      <td>[allo-v1]</td>\n",
       "      <td>268.81372</td>\n",
       "      <td>54</td>\n",
       "      <td>51</td>\n",
       "    </tr>\n",
       "  </tbody>\n",
       "</table>\n",
       "</div>"
      ],
      "text/plain": [
       "  anchor_address chain_id created_at_block  \\\n",
       "0           None        1         17787259   \n",
       "1           None        1         17802994   \n",
       "2           None        1         17031319   \n",
       "3           None        1         17033387   \n",
       "\n",
       "                           created_by_address id  \\\n",
       "0  0xf2af41a645f7b439ed4c9149d1ce687d33181b93  0   \n",
       "1  0x6da84e637ffb51c69de568a11828a30b4886d5cb  1   \n",
       "2  0xff2abef3af9655d96da983916e066134adea6390  0   \n",
       "3  0xb17b3e7910af9d232cb683c083ef73c34521fc8a  1   \n",
       "\n",
       "                                            metadata  \\\n",
       "0  {\"signature\": \"0x471f4b214d70e1fc15dbfe7e8f4a5...   \n",
       "1  {\"signature\": \"0x69d0a4b51f548782de428ed699408...   \n",
       "2  {\"signature\": \"0x4c3db176694bdfc0f9e4a04738205...   \n",
       "3  {\"signature\": \"0xc9f5e29fcb4db0b0c9a5909f68c16...   \n",
       "\n",
       "                                  metadata_signature  \\\n",
       "0  0x471f4b214d70e1fc15dbfe7e8f4a57f5e493c0cf5dd2...   \n",
       "1  0x69d0a4b51f548782de428ed699408f3db1d113bd1fc5...   \n",
       "2  0x4c3db176694bdfc0f9e4a04738205d562ef31a026699...   \n",
       "3  0xc9f5e29fcb4db0b0c9a5909f68c162ea5d16a275f705...   \n",
       "\n",
       "               metadata_application_recipient  \\\n",
       "0  0xf2af41a645f7b439ed4c9149d1ce687d33181b93   \n",
       "1  0x6da84e637ffb51c69de568a11828a30b4886d5cb   \n",
       "2  0xff2abef3af9655d96da983916e066134adea6390   \n",
       "3  0x690315449efad5f8b06a356f16eecfc41f475f70   \n",
       "\n",
       "                                        metadata_cid  \\\n",
       "0  bafkreiawz7cmcfmydfhtmro2oluzuzvfzsbs7idihxzjh...   \n",
       "1  bafkreifegp2jfsgidvve6xednoixiryjawro3fmfkiz3q...   \n",
       "2  bafkreibopq7uesrp5amqsqnyrwmfikem5iweivwbkzyht...   \n",
       "3  bafkreiazdoqxpfeeazyfonpnzgpfd5rfa5aukq5jkmkhd...   \n",
       "\n",
       "                                             node_id  \\\n",
       "0  WyJhcHBsaWNhdGlvbnMiLDEsIjB4MDVkZjc2YmM0NDZjZW...   \n",
       "1  WyJhcHBsaWNhdGlvbnMiLDEsIjB4MDVkZjc2YmM0NDZjZW...   \n",
       "2  WyJhcHBsaWNhdGlvbnMiLDEsIjB4MTJiYjViYmJmZTU5Nm...   \n",
       "3  WyJhcHBsaWNhdGlvbnMiLDEsIjB4MTJiYjViYmJmZTU5Nm...   \n",
       "\n",
       "                                          project_id  \\\n",
       "0  0xb25b0a149ce400e9c5906308a7079da37a99c0cab0aa...   \n",
       "1  0xaebed2cd5ab824350703b4d037ace0e3c23607e4e501...   \n",
       "2  0x6aeb3ddab061203d32594b03901bf458679a66fbeab9...   \n",
       "3  0xdeffc2d190ddec88d06ba86e1eb09abe5a9ccb49ab1d...   \n",
       "\n",
       "                                     round_id    status  \\\n",
       "0  0x05df76bc446cee7ad536e2d23c128c9c8909cf7b   PENDING   \n",
       "1  0x05df76bc446cee7ad536e2d23c128c9c8909cf7b   PENDING   \n",
       "2  0x12bb5bbbfe596dbc489d209299b8302c3300fa40  APPROVED   \n",
       "3  0x12bb5bbbfe596dbc489d209299b8302c3300fa40  APPROVED   \n",
       "\n",
       "                                    status_snapshots status_updated_at_block  \\\n",
       "0  [{'status': 'PENDING', 'statusUpdatedAtBlock':...                17787259   \n",
       "1  [{'status': 'PENDING', 'statusUpdatedAtBlock':...                17802994   \n",
       "2  [{'status': 'PENDING', 'statusUpdatedAtBlock':...                17170541   \n",
       "3  [{'status': 'PENDING', 'statusUpdatedAtBlock':...                17170541   \n",
       "\n",
       "        tags  total_amount_donated_in_usd  total_donations_count  \\\n",
       "0  [allo-v1]                      0.00000                      0   \n",
       "1  [allo-v1]                      0.00000                      0   \n",
       "2  [allo-v1]                    876.12115                    216   \n",
       "3  [allo-v1]                    268.81372                     54   \n",
       "\n",
       "   unique_donors_count  \n",
       "0                    0  \n",
       "1                    0  \n",
       "2                  211  \n",
       "3                   51  "
      ]
     },
     "metadata": {},
     "output_type": "display_data"
    },
    {
     "data": {
      "text/markdown": [
       "## [allo_deployments.parquet](#file-listing)"
      ],
      "text/plain": [
       "<IPython.core.display.Markdown object>"
      ]
     },
     "metadata": {},
     "output_type": "display_data"
    },
    {
     "data": {
      "text/markdown": [
       "address: string<br>chain_name: string<br>contract: string"
      ],
      "text/plain": [
       "<IPython.core.display.Markdown object>"
      ]
     },
     "metadata": {},
     "output_type": "display_data"
    },
    {
     "data": {
      "text/html": [
       "<div>\n",
       "<style scoped>\n",
       "    .dataframe tbody tr th:only-of-type {\n",
       "        vertical-align: middle;\n",
       "    }\n",
       "\n",
       "    .dataframe tbody tr th {\n",
       "        vertical-align: top;\n",
       "    }\n",
       "\n",
       "    .dataframe thead th {\n",
       "        text-align: right;\n",
       "    }\n",
       "</style>\n",
       "<table border=\"1\" class=\"dataframe\">\n",
       "  <thead>\n",
       "    <tr style=\"text-align: right;\">\n",
       "      <th></th>\n",
       "      <th>address</th>\n",
       "      <th>chain_name</th>\n",
       "      <th>contract</th>\n",
       "    </tr>\n",
       "  </thead>\n",
       "  <tbody>\n",
       "    <tr>\n",
       "      <th>0</th>\n",
       "      <td>0x56296242ca408ba36393f3981879ff9692f193cc</td>\n",
       "      <td>Ethereum Mainnet</td>\n",
       "      <td>ProgramFactory</td>\n",
       "    </tr>\n",
       "    <tr>\n",
       "      <th>1</th>\n",
       "      <td>0x0bfa0aaf5f2d81f859e85c8e82a3fc5b624fc6e8</td>\n",
       "      <td>Ethereum Mainnet</td>\n",
       "      <td>ProgramImplementation</td>\n",
       "    </tr>\n",
       "    <tr>\n",
       "      <th>2</th>\n",
       "      <td>0x4a850f463d1c4842937c5bc9540dbc803d744c9f</td>\n",
       "      <td>Ethereum Mainnet</td>\n",
       "      <td>QuadraticFundingVotingStrategyFactory</td>\n",
       "    </tr>\n",
       "    <tr>\n",
       "      <th>3</th>\n",
       "      <td>0xddc143f736f912ae6aaf2fcef2c78b267745b0f2</td>\n",
       "      <td>Ethereum Mainnet</td>\n",
       "      <td>QFVotingStrategyImplementation</td>\n",
       "    </tr>\n",
       "  </tbody>\n",
       "</table>\n",
       "</div>"
      ],
      "text/plain": [
       "                                      address        chain_name  \\\n",
       "0  0x56296242ca408ba36393f3981879ff9692f193cc  Ethereum Mainnet   \n",
       "1  0x0bfa0aaf5f2d81f859e85c8e82a3fc5b624fc6e8  Ethereum Mainnet   \n",
       "2  0x4a850f463d1c4842937c5bc9540dbc803d744c9f  Ethereum Mainnet   \n",
       "3  0xddc143f736f912ae6aaf2fcef2c78b267745b0f2  Ethereum Mainnet   \n",
       "\n",
       "                                contract  \n",
       "0                         ProgramFactory  \n",
       "1                  ProgramImplementation  \n",
       "2  QuadraticFundingVotingStrategyFactory  \n",
       "3         QFVotingStrategyImplementation  "
      ]
     },
     "metadata": {},
     "output_type": "display_data"
    },
    {
     "data": {
      "text/markdown": [
       "## [allo_donations.parquet](#file-listing)"
      ],
      "text/plain": [
       "<IPython.core.display.Markdown object>"
      ]
     },
     "metadata": {},
     "output_type": "display_data"
    },
    {
     "data": {
      "text/markdown": [
       "amount_in_usd: double<br>amount: string<br>amount_in_round_match_token: string<br>application_id: string<br>block_number: string<br>chain_id: int64<br>id: string<br>donor_address: string<br>node_id: string<br>project_id: string<br>recipient_address: string<br>round_id: string<br>token_address: string<br>transaction_hash: string"
      ],
      "text/plain": [
       "<IPython.core.display.Markdown object>"
      ]
     },
     "metadata": {},
     "output_type": "display_data"
    },
    {
     "data": {
      "text/html": [
       "<div>\n",
       "<style scoped>\n",
       "    .dataframe tbody tr th:only-of-type {\n",
       "        vertical-align: middle;\n",
       "    }\n",
       "\n",
       "    .dataframe tbody tr th {\n",
       "        vertical-align: top;\n",
       "    }\n",
       "\n",
       "    .dataframe thead th {\n",
       "        text-align: right;\n",
       "    }\n",
       "</style>\n",
       "<table border=\"1\" class=\"dataframe\">\n",
       "  <thead>\n",
       "    <tr style=\"text-align: right;\">\n",
       "      <th></th>\n",
       "      <th>amount_in_usd</th>\n",
       "      <th>amount</th>\n",
       "      <th>amount_in_round_match_token</th>\n",
       "      <th>application_id</th>\n",
       "      <th>block_number</th>\n",
       "      <th>chain_id</th>\n",
       "      <th>id</th>\n",
       "      <th>donor_address</th>\n",
       "      <th>node_id</th>\n",
       "      <th>project_id</th>\n",
       "      <th>recipient_address</th>\n",
       "      <th>round_id</th>\n",
       "      <th>token_address</th>\n",
       "      <th>transaction_hash</th>\n",
       "    </tr>\n",
       "  </thead>\n",
       "  <tbody>\n",
       "    <tr>\n",
       "      <th>0</th>\n",
       "      <td>0.016360</td>\n",
       "      <td>10000000000000</td>\n",
       "      <td>16366460000000000</td>\n",
       "      <td>0</td>\n",
       "      <td>108816979</td>\n",
       "      <td>10</td>\n",
       "      <td>0x00002acaece3562ac4eb6885a41a37e357ef54d3cb2c...</td>\n",
       "      <td>0x285bc2970e54d53ea2fbe4b0e1bba2677a205742</td>\n",
       "      <td>WyJkb25hdGlvbnMiLCIweDAwMDAyYWNhZWNlMzU2MmFjNG...</td>\n",
       "      <td>0xcc6d33fe291d0fafb19cf8b833dc27d2f469fac52e3c...</td>\n",
       "      <td>0x5afc7720b161788f9d833555b7ebc3274fd98da1</td>\n",
       "      <td>0x8de918f0163b2021839a8d84954dd7e8e151326d</td>\n",
       "      <td>0x0000000000000000000000000000000000000000</td>\n",
       "      <td>0x379bced92b07c59756d02243b76ae8ebd5042b41ee90...</td>\n",
       "    </tr>\n",
       "    <tr>\n",
       "      <th>1</th>\n",
       "      <td>0.000052</td>\n",
       "      <td>67390000000000</td>\n",
       "      <td>51</td>\n",
       "      <td>17</td>\n",
       "      <td>50530864</td>\n",
       "      <td>137</td>\n",
       "      <td>0x00002e5ba02e1c78e782b69c7c8f8b1bab18e57f290c...</td>\n",
       "      <td>0xf49eb7f170f07b74d26195b1e67b5442ebcef5ec</td>\n",
       "      <td>WyJkb25hdGlvbnMiLCIweDAwMDAyZTViYTAyZTFjNzhlNz...</td>\n",
       "      <td>0xad02fe3124cef38f8c4fd5a44302713e49458d60a84d...</td>\n",
       "      <td>0x35292bbd442373046a6fb4bf7e2529fa9a8d5bb0</td>\n",
       "      <td>0xa1d52f9b5339792651861329a046dd912761e9a9</td>\n",
       "      <td>0x0000000000000000000000000000000000000000</td>\n",
       "      <td>0x4058469617e5123582f1e682f4b5a18337dc0fa41a15...</td>\n",
       "    </tr>\n",
       "    <tr>\n",
       "      <th>2</th>\n",
       "      <td>1.001680</td>\n",
       "      <td>610000000000000</td>\n",
       "      <td>1002163510000000000</td>\n",
       "      <td>2</td>\n",
       "      <td>108693843</td>\n",
       "      <td>10</td>\n",
       "      <td>0x0000590057ea1f42fe672e48933670847d644e095760...</td>\n",
       "      <td>0x5477d4639e998ddda7e97f44ad159f4b7f1e3fc7</td>\n",
       "      <td>WyJkb25hdGlvbnMiLCIweDAwMDA1OTAwNTdlYTFmNDJmZT...</td>\n",
       "      <td>0xbe519f8c8f7ff2acb359dd757c5d2bf25b05d9fd29b8...</td>\n",
       "      <td>0x3a5bd1e37b099ae3386d13947b6a90d97675e5e3</td>\n",
       "      <td>0x8de918f0163b2021839a8d84954dd7e8e151326d</td>\n",
       "      <td>0x0000000000000000000000000000000000000000</td>\n",
       "      <td>0xa036a626ec861c214a235f93f7fbb7d3f8b1b213df46...</td>\n",
       "    </tr>\n",
       "    <tr>\n",
       "      <th>3</th>\n",
       "      <td>1.033441</td>\n",
       "      <td>530000000000000</td>\n",
       "      <td>1034735860000000000</td>\n",
       "      <td>73</td>\n",
       "      <td>112385228</td>\n",
       "      <td>10</td>\n",
       "      <td>0x0000615cbcd17b135557d85ca64673bb4b711444e467...</td>\n",
       "      <td>0xf1ed61a80c7469273fea62564ec70a48e09fe170</td>\n",
       "      <td>WyJkb25hdGlvbnMiLCIweDAwMDA2MTVjYmNkMTdiMTM1NT...</td>\n",
       "      <td>0x29e1256cffdb522383bc943035ecfa518cc3051f2438...</td>\n",
       "      <td>0x3cc9f396430bc766ac8aa57fc28aebc5919a5d81</td>\n",
       "      <td>0x5eb890e41c8d2cff75ea942085e406bb90016561</td>\n",
       "      <td>0x0000000000000000000000000000000000000000</td>\n",
       "      <td>0x56c48d387bb3316ad15476d1712a202ad87e14c74d20...</td>\n",
       "    </tr>\n",
       "  </tbody>\n",
       "</table>\n",
       "</div>"
      ],
      "text/plain": [
       "   amount_in_usd           amount amount_in_round_match_token application_id  \\\n",
       "0       0.016360   10000000000000           16366460000000000              0   \n",
       "1       0.000052   67390000000000                          51             17   \n",
       "2       1.001680  610000000000000         1002163510000000000              2   \n",
       "3       1.033441  530000000000000         1034735860000000000             73   \n",
       "\n",
       "  block_number  chain_id                                                 id  \\\n",
       "0    108816979        10  0x00002acaece3562ac4eb6885a41a37e357ef54d3cb2c...   \n",
       "1     50530864       137  0x00002e5ba02e1c78e782b69c7c8f8b1bab18e57f290c...   \n",
       "2    108693843        10  0x0000590057ea1f42fe672e48933670847d644e095760...   \n",
       "3    112385228        10  0x0000615cbcd17b135557d85ca64673bb4b711444e467...   \n",
       "\n",
       "                                donor_address  \\\n",
       "0  0x285bc2970e54d53ea2fbe4b0e1bba2677a205742   \n",
       "1  0xf49eb7f170f07b74d26195b1e67b5442ebcef5ec   \n",
       "2  0x5477d4639e998ddda7e97f44ad159f4b7f1e3fc7   \n",
       "3  0xf1ed61a80c7469273fea62564ec70a48e09fe170   \n",
       "\n",
       "                                             node_id  \\\n",
       "0  WyJkb25hdGlvbnMiLCIweDAwMDAyYWNhZWNlMzU2MmFjNG...   \n",
       "1  WyJkb25hdGlvbnMiLCIweDAwMDAyZTViYTAyZTFjNzhlNz...   \n",
       "2  WyJkb25hdGlvbnMiLCIweDAwMDA1OTAwNTdlYTFmNDJmZT...   \n",
       "3  WyJkb25hdGlvbnMiLCIweDAwMDA2MTVjYmNkMTdiMTM1NT...   \n",
       "\n",
       "                                          project_id  \\\n",
       "0  0xcc6d33fe291d0fafb19cf8b833dc27d2f469fac52e3c...   \n",
       "1  0xad02fe3124cef38f8c4fd5a44302713e49458d60a84d...   \n",
       "2  0xbe519f8c8f7ff2acb359dd757c5d2bf25b05d9fd29b8...   \n",
       "3  0x29e1256cffdb522383bc943035ecfa518cc3051f2438...   \n",
       "\n",
       "                            recipient_address  \\\n",
       "0  0x5afc7720b161788f9d833555b7ebc3274fd98da1   \n",
       "1  0x35292bbd442373046a6fb4bf7e2529fa9a8d5bb0   \n",
       "2  0x3a5bd1e37b099ae3386d13947b6a90d97675e5e3   \n",
       "3  0x3cc9f396430bc766ac8aa57fc28aebc5919a5d81   \n",
       "\n",
       "                                     round_id  \\\n",
       "0  0x8de918f0163b2021839a8d84954dd7e8e151326d   \n",
       "1  0xa1d52f9b5339792651861329a046dd912761e9a9   \n",
       "2  0x8de918f0163b2021839a8d84954dd7e8e151326d   \n",
       "3  0x5eb890e41c8d2cff75ea942085e406bb90016561   \n",
       "\n",
       "                                token_address  \\\n",
       "0  0x0000000000000000000000000000000000000000   \n",
       "1  0x0000000000000000000000000000000000000000   \n",
       "2  0x0000000000000000000000000000000000000000   \n",
       "3  0x0000000000000000000000000000000000000000   \n",
       "\n",
       "                                    transaction_hash  \n",
       "0  0x379bced92b07c59756d02243b76ae8ebd5042b41ee90...  \n",
       "1  0x4058469617e5123582f1e682f4b5a18337dc0fa41a15...  \n",
       "2  0xa036a626ec861c214a235f93f7fbb7d3f8b1b213df46...  \n",
       "3  0x56c48d387bb3316ad15476d1712a202ad87e14c74d20...  "
      ]
     },
     "metadata": {},
     "output_type": "display_data"
    },
    {
     "data": {
      "text/markdown": [
       "## [allo_prices.parquet](#file-listing)"
      ],
      "text/plain": [
       "<IPython.core.display.Markdown object>"
      ]
     },
     "metadata": {},
     "output_type": "display_data"
    },
    {
     "data": {
      "text/markdown": [
       "block_number: string<br>chain_id: string<br>id: int64<br>node_id: string<br>price_in_usd: double<br>timestamp: string<br>token_address: string"
      ],
      "text/plain": [
       "<IPython.core.display.Markdown object>"
      ]
     },
     "metadata": {},
     "output_type": "display_data"
    },
    {
     "data": {
      "text/html": [
       "<div>\n",
       "<style scoped>\n",
       "    .dataframe tbody tr th:only-of-type {\n",
       "        vertical-align: middle;\n",
       "    }\n",
       "\n",
       "    .dataframe tbody tr th {\n",
       "        vertical-align: top;\n",
       "    }\n",
       "\n",
       "    .dataframe thead th {\n",
       "        text-align: right;\n",
       "    }\n",
       "</style>\n",
       "<table border=\"1\" class=\"dataframe\">\n",
       "  <thead>\n",
       "    <tr style=\"text-align: right;\">\n",
       "      <th></th>\n",
       "      <th>block_number</th>\n",
       "      <th>chain_id</th>\n",
       "      <th>id</th>\n",
       "      <th>node_id</th>\n",
       "      <th>price_in_usd</th>\n",
       "      <th>timestamp</th>\n",
       "      <th>token_address</th>\n",
       "    </tr>\n",
       "  </thead>\n",
       "  <tbody>\n",
       "    <tr>\n",
       "      <th>0</th>\n",
       "      <td>2774000</td>\n",
       "      <td>534351</td>\n",
       "      <td>1</td>\n",
       "      <td>WyJwcmljZXMiLDFd</td>\n",
       "      <td>2403.8289</td>\n",
       "      <td>2024-01-10T13:01:24</td>\n",
       "      <td>0x0000000000000000000000000000000000000000</td>\n",
       "    </tr>\n",
       "    <tr>\n",
       "      <th>1</th>\n",
       "      <td>20912000</td>\n",
       "      <td>324</td>\n",
       "      <td>2</td>\n",
       "      <td>WyJwcmljZXMiLDJd</td>\n",
       "      <td>2346.6409</td>\n",
       "      <td>2023-12-07T18:27:50</td>\n",
       "      <td>0x0000000000000000000000000000000000000000</td>\n",
       "    </tr>\n",
       "    <tr>\n",
       "      <th>2</th>\n",
       "      <td>1336000</td>\n",
       "      <td>58008</td>\n",
       "      <td>3</td>\n",
       "      <td>WyJwcmljZXMiLDNd</td>\n",
       "      <td>1965.9740</td>\n",
       "      <td>2023-07-03T15:59:32</td>\n",
       "      <td>0x0000000000000000000000000000000000000000</td>\n",
       "    </tr>\n",
       "    <tr>\n",
       "      <th>3</th>\n",
       "      <td>2972000</td>\n",
       "      <td>534352</td>\n",
       "      <td>4</td>\n",
       "      <td>WyJwcmljZXMiLDRd</td>\n",
       "      <td>2291.2834</td>\n",
       "      <td>2024-02-01T18:58:51</td>\n",
       "      <td>0x0000000000000000000000000000000000000000</td>\n",
       "    </tr>\n",
       "  </tbody>\n",
       "</table>\n",
       "</div>"
      ],
      "text/plain": [
       "  block_number chain_id  id           node_id  price_in_usd  \\\n",
       "0      2774000   534351   1  WyJwcmljZXMiLDFd     2403.8289   \n",
       "1     20912000      324   2  WyJwcmljZXMiLDJd     2346.6409   \n",
       "2      1336000    58008   3  WyJwcmljZXMiLDNd     1965.9740   \n",
       "3      2972000   534352   4  WyJwcmljZXMiLDRd     2291.2834   \n",
       "\n",
       "             timestamp                               token_address  \n",
       "0  2024-01-10T13:01:24  0x0000000000000000000000000000000000000000  \n",
       "1  2023-12-07T18:27:50  0x0000000000000000000000000000000000000000  \n",
       "2  2023-07-03T15:59:32  0x0000000000000000000000000000000000000000  \n",
       "3  2024-02-01T18:58:51  0x0000000000000000000000000000000000000000  "
      ]
     },
     "metadata": {},
     "output_type": "display_data"
    },
    {
     "data": {
      "text/markdown": [
       "## [allo_projects.parquet](#file-listing)"
      ],
      "text/plain": [
       "<IPython.core.display.Markdown object>"
      ]
     },
     "metadata": {},
     "output_type": "display_data"
    },
    {
     "data": {
      "text/markdown": [
       "anchor_address: string<br>chain_id: int64<br>created_at_block: string<br>created_by_address: string<br>id: string<br>metadata: string<br>title: string<br>description: string<br>website: string<br>project_twitter: string<br>project_github: string<br>user_github: string<br>logo_image: string<br>banner_image: string<br>created_at: decimal128(18, 3)<br>metadata_cid: string<br>name: string<br>node_id: string<br>nonce: string<br>project_number: int64<br>project_type: string<br>registry_address: string<br>tags: list<element: string><br>  child 0, element: string<br>updated_at_block: string"
      ],
      "text/plain": [
       "<IPython.core.display.Markdown object>"
      ]
     },
     "metadata": {},
     "output_type": "display_data"
    },
    {
     "data": {
      "text/html": [
       "<div>\n",
       "<style scoped>\n",
       "    .dataframe tbody tr th:only-of-type {\n",
       "        vertical-align: middle;\n",
       "    }\n",
       "\n",
       "    .dataframe tbody tr th {\n",
       "        vertical-align: top;\n",
       "    }\n",
       "\n",
       "    .dataframe thead th {\n",
       "        text-align: right;\n",
       "    }\n",
       "</style>\n",
       "<table border=\"1\" class=\"dataframe\">\n",
       "  <thead>\n",
       "    <tr style=\"text-align: right;\">\n",
       "      <th></th>\n",
       "      <th>anchor_address</th>\n",
       "      <th>chain_id</th>\n",
       "      <th>created_at_block</th>\n",
       "      <th>created_by_address</th>\n",
       "      <th>id</th>\n",
       "      <th>metadata</th>\n",
       "      <th>title</th>\n",
       "      <th>description</th>\n",
       "      <th>website</th>\n",
       "      <th>project_twitter</th>\n",
       "      <th>...</th>\n",
       "      <th>created_at</th>\n",
       "      <th>metadata_cid</th>\n",
       "      <th>name</th>\n",
       "      <th>node_id</th>\n",
       "      <th>nonce</th>\n",
       "      <th>project_number</th>\n",
       "      <th>project_type</th>\n",
       "      <th>registry_address</th>\n",
       "      <th>tags</th>\n",
       "      <th>updated_at_block</th>\n",
       "    </tr>\n",
       "  </thead>\n",
       "  <tbody>\n",
       "    <tr>\n",
       "      <th>0</th>\n",
       "      <td>None</td>\n",
       "      <td>424</td>\n",
       "      <td>1252131</td>\n",
       "      <td>0x0194325bf525be0d4fbb0856894ced74da3b8356</td>\n",
       "      <td>0x00065ad5b4ac5b42ac82c60ac9e939505f7996e95b61...</td>\n",
       "      <td>{\"title\": \"Ether Alpha\", \"logoImg\": \"bafkreibt...</td>\n",
       "      <td>Ether Alpha</td>\n",
       "      <td>Working under the pseudonym Ether Alpha, hanni...</td>\n",
       "      <td>https://etheralpha.org</td>\n",
       "      <td>hanni_abu</td>\n",
       "      <td>...</td>\n",
       "      <td>1691610982852.000</td>\n",
       "      <td>bafkreic3wmwxh677nawk2ne563q7wx4vxif4xkoal65lo...</td>\n",
       "      <td></td>\n",
       "      <td>WyJwcm9qZWN0cyIsIjB4MDAwNjVhZDViNGFjNWI0MmFjOD...</td>\n",
       "      <td>None</td>\n",
       "      <td>46.0</td>\n",
       "      <td>CANONICAL</td>\n",
       "      <td>0xdf9bf58aa1a1b73f0e214d79c652a7dd37a6074e</td>\n",
       "      <td>[allo-v1]</td>\n",
       "      <td>1252131</td>\n",
       "    </tr>\n",
       "    <tr>\n",
       "      <th>1</th>\n",
       "      <td>None</td>\n",
       "      <td>10</td>\n",
       "      <td>112152576</td>\n",
       "      <td>0x7296191a226496f6afcf3490d2ec8e6cf8646c69</td>\n",
       "      <td>0x0017370bdfd13411f68f8f7bdac26edec1fadfa12cdc...</td>\n",
       "      <td>{\"title\": \"wosek's contributions\", \"logoImg\": ...</td>\n",
       "      <td>wosek's contributions</td>\n",
       "      <td>I like to translate things into Polish in my f...</td>\n",
       "      <td>https://crowdin.com/profile/wosek_</td>\n",
       "      <td>None</td>\n",
       "      <td>...</td>\n",
       "      <td>1699903917873.000</td>\n",
       "      <td>bafkreihg54kx2zz35y7gbtwsvwpgraohrsnh2mtf4drjh...</td>\n",
       "      <td></td>\n",
       "      <td>WyJwcm9qZWN0cyIsIjB4MDAxNzM3MGJkZmQxMzQxMWY2OG...</td>\n",
       "      <td>None</td>\n",
       "      <td>1520.0</td>\n",
       "      <td>CANONICAL</td>\n",
       "      <td>0x8e1bd5da87c14dd8e08f7ecc2abf9d1d558ea174</td>\n",
       "      <td>[allo-v1]</td>\n",
       "      <td>112152576</td>\n",
       "    </tr>\n",
       "    <tr>\n",
       "      <th>2</th>\n",
       "      <td>None</td>\n",
       "      <td>424</td>\n",
       "      <td>5715877</td>\n",
       "      <td>0x9c162e77b67ed76164b486e2305000c10e3b9dfe</td>\n",
       "      <td>0x0024e32c272cb1a514dd4a83ce642544d5f73caa</td>\n",
       "      <td>{\"name\": \"DEVELOPMENT AND OPERATION OF ARTIFIC...</td>\n",
       "      <td>None</td>\n",
       "      <td>None</td>\n",
       "      <td>None</td>\n",
       "      <td>None</td>\n",
       "      <td>...</td>\n",
       "      <td>None</td>\n",
       "      <td>bafkreicndz7x2syry6qp7ccpqshddgqmyiotlpa6lnmxd...</td>\n",
       "      <td></td>\n",
       "      <td>WyJwcm9qZWN0cyIsIjB4MDAyNGUzMmMyNzJjYjFhNTE0ZG...</td>\n",
       "      <td>None</td>\n",
       "      <td>NaN</td>\n",
       "      <td>CANONICAL</td>\n",
       "      <td>0x0000000000000000000000000000000000000000</td>\n",
       "      <td>[allo-v1, program]</td>\n",
       "      <td>5715877</td>\n",
       "    </tr>\n",
       "    <tr>\n",
       "      <th>3</th>\n",
       "      <td>0xc2ba001c5e3dab03b5de1dda3dd3f64216d5c1a1</td>\n",
       "      <td>5</td>\n",
       "      <td>10242766</td>\n",
       "      <td>0xe849b2a694184b8739a04c915518330757cdb18b</td>\n",
       "      <td>0x00490de473481e6883b7a13f582ee8e927dce1bafa92...</td>\n",
       "      <td>{\"name\": \"Random Round\", \"description\": \"Lorem...</td>\n",
       "      <td>None</td>\n",
       "      <td>Lorem ipsum dolor sit amet, consectetur adipis...</td>\n",
       "      <td>None</td>\n",
       "      <td>None</td>\n",
       "      <td>...</td>\n",
       "      <td>None</td>\n",
       "      <td>bafybeia4khbew3r2mkflyn7nzlvfzcb3qpfeftz5ivpzf...</td>\n",
       "      <td>Allo Workshop</td>\n",
       "      <td>WyJwcm9qZWN0cyIsIjB4MDA0OTBkZTQ3MzQ4MWU2ODgzYj...</td>\n",
       "      <td>6422</td>\n",
       "      <td>NaN</td>\n",
       "      <td>CANONICAL</td>\n",
       "      <td>0x4aacca72145e1df2aec137e1f3c5e3d75db8b5f3</td>\n",
       "      <td>[allo-v2]</td>\n",
       "      <td>10242766</td>\n",
       "    </tr>\n",
       "  </tbody>\n",
       "</table>\n",
       "<p>4 rows × 24 columns</p>\n",
       "</div>"
      ],
      "text/plain": [
       "                               anchor_address  chain_id created_at_block  \\\n",
       "0                                        None       424          1252131   \n",
       "1                                        None        10        112152576   \n",
       "2                                        None       424          5715877   \n",
       "3  0xc2ba001c5e3dab03b5de1dda3dd3f64216d5c1a1         5         10242766   \n",
       "\n",
       "                           created_by_address  \\\n",
       "0  0x0194325bf525be0d4fbb0856894ced74da3b8356   \n",
       "1  0x7296191a226496f6afcf3490d2ec8e6cf8646c69   \n",
       "2  0x9c162e77b67ed76164b486e2305000c10e3b9dfe   \n",
       "3  0xe849b2a694184b8739a04c915518330757cdb18b   \n",
       "\n",
       "                                                  id  \\\n",
       "0  0x00065ad5b4ac5b42ac82c60ac9e939505f7996e95b61...   \n",
       "1  0x0017370bdfd13411f68f8f7bdac26edec1fadfa12cdc...   \n",
       "2         0x0024e32c272cb1a514dd4a83ce642544d5f73caa   \n",
       "3  0x00490de473481e6883b7a13f582ee8e927dce1bafa92...   \n",
       "\n",
       "                                            metadata                  title  \\\n",
       "0  {\"title\": \"Ether Alpha\", \"logoImg\": \"bafkreibt...            Ether Alpha   \n",
       "1  {\"title\": \"wosek's contributions\", \"logoImg\": ...  wosek's contributions   \n",
       "2  {\"name\": \"DEVELOPMENT AND OPERATION OF ARTIFIC...                   None   \n",
       "3  {\"name\": \"Random Round\", \"description\": \"Lorem...                   None   \n",
       "\n",
       "                                         description  \\\n",
       "0  Working under the pseudonym Ether Alpha, hanni...   \n",
       "1  I like to translate things into Polish in my f...   \n",
       "2                                               None   \n",
       "3  Lorem ipsum dolor sit amet, consectetur adipis...   \n",
       "\n",
       "                              website project_twitter  ...         created_at  \\\n",
       "0              https://etheralpha.org       hanni_abu  ...  1691610982852.000   \n",
       "1  https://crowdin.com/profile/wosek_            None  ...  1699903917873.000   \n",
       "2                                None            None  ...               None   \n",
       "3                                None            None  ...               None   \n",
       "\n",
       "                                        metadata_cid           name  \\\n",
       "0  bafkreic3wmwxh677nawk2ne563q7wx4vxif4xkoal65lo...                  \n",
       "1  bafkreihg54kx2zz35y7gbtwsvwpgraohrsnh2mtf4drjh...                  \n",
       "2  bafkreicndz7x2syry6qp7ccpqshddgqmyiotlpa6lnmxd...                  \n",
       "3  bafybeia4khbew3r2mkflyn7nzlvfzcb3qpfeftz5ivpzf...  Allo Workshop   \n",
       "\n",
       "                                             node_id nonce project_number  \\\n",
       "0  WyJwcm9qZWN0cyIsIjB4MDAwNjVhZDViNGFjNWI0MmFjOD...  None           46.0   \n",
       "1  WyJwcm9qZWN0cyIsIjB4MDAxNzM3MGJkZmQxMzQxMWY2OG...  None         1520.0   \n",
       "2  WyJwcm9qZWN0cyIsIjB4MDAyNGUzMmMyNzJjYjFhNTE0ZG...  None            NaN   \n",
       "3  WyJwcm9qZWN0cyIsIjB4MDA0OTBkZTQ3MzQ4MWU2ODgzYj...  6422            NaN   \n",
       "\n",
       "  project_type                            registry_address  \\\n",
       "0    CANONICAL  0xdf9bf58aa1a1b73f0e214d79c652a7dd37a6074e   \n",
       "1    CANONICAL  0x8e1bd5da87c14dd8e08f7ecc2abf9d1d558ea174   \n",
       "2    CANONICAL  0x0000000000000000000000000000000000000000   \n",
       "3    CANONICAL  0x4aacca72145e1df2aec137e1f3c5e3d75db8b5f3   \n",
       "\n",
       "                 tags  updated_at_block  \n",
       "0           [allo-v1]           1252131  \n",
       "1           [allo-v1]         112152576  \n",
       "2  [allo-v1, program]           5715877  \n",
       "3           [allo-v2]          10242766  \n",
       "\n",
       "[4 rows x 24 columns]"
      ]
     },
     "metadata": {},
     "output_type": "display_data"
    },
    {
     "data": {
      "text/markdown": [
       "## [allo_rounds.parquet](#file-listing)"
      ],
      "text/plain": [
       "<IPython.core.display.Markdown object>"
      ]
     },
     "metadata": {},
     "output_type": "display_data"
    },
    {
     "data": {
      "text/markdown": [
       "admin_role: string<br>application_metadata: string<br>application_metadata_cid: string<br>applications_end_time: string<br>applications_start_time: string<br>chain_id: int64<br>created_at_block: string<br>created_by_address: string<br>donations_end_time: string<br>donations_start_time: string<br>id: string<br>is_ready_for_payout: bool<br>manager_role: string<br>match_amount: string<br>match_amount_in_usd: double<br>match_token_address: string<br>node_id: string<br>project_id: string<br>round_metadata: string<br>round_metadata_cid: string<br>round_metadata_name: string<br>round_metadata_round_type: string<br>round_metadata_program_address: string<br>round_metadata_sybil_defense: string<br>strategy_address: string<br>strategy_id: string<br>strategy_name: string<br>tags: string<br>total_amount_donated_in_usd: double<br>total_donations_count: int64<br>unique_donors_count: int64<br>updated_at_block: string"
      ],
      "text/plain": [
       "<IPython.core.display.Markdown object>"
      ]
     },
     "metadata": {},
     "output_type": "display_data"
    },
    {
     "data": {
      "text/html": [
       "<div>\n",
       "<style scoped>\n",
       "    .dataframe tbody tr th:only-of-type {\n",
       "        vertical-align: middle;\n",
       "    }\n",
       "\n",
       "    .dataframe tbody tr th {\n",
       "        vertical-align: top;\n",
       "    }\n",
       "\n",
       "    .dataframe thead th {\n",
       "        text-align: right;\n",
       "    }\n",
       "</style>\n",
       "<table border=\"1\" class=\"dataframe\">\n",
       "  <thead>\n",
       "    <tr style=\"text-align: right;\">\n",
       "      <th></th>\n",
       "      <th>admin_role</th>\n",
       "      <th>application_metadata</th>\n",
       "      <th>application_metadata_cid</th>\n",
       "      <th>applications_end_time</th>\n",
       "      <th>applications_start_time</th>\n",
       "      <th>chain_id</th>\n",
       "      <th>created_at_block</th>\n",
       "      <th>created_by_address</th>\n",
       "      <th>donations_end_time</th>\n",
       "      <th>donations_start_time</th>\n",
       "      <th>...</th>\n",
       "      <th>round_metadata_program_address</th>\n",
       "      <th>round_metadata_sybil_defense</th>\n",
       "      <th>strategy_address</th>\n",
       "      <th>strategy_id</th>\n",
       "      <th>strategy_name</th>\n",
       "      <th>tags</th>\n",
       "      <th>total_amount_donated_in_usd</th>\n",
       "      <th>total_donations_count</th>\n",
       "      <th>unique_donors_count</th>\n",
       "      <th>updated_at_block</th>\n",
       "    </tr>\n",
       "  </thead>\n",
       "  <tbody>\n",
       "    <tr>\n",
       "      <th>0</th>\n",
       "      <td></td>\n",
       "      <td>{\"version\": \"2.0.0\", \"lastUpdatedOn\": 17078383...</td>\n",
       "      <td>bafkreihtjfexxqwu7mmwboglnhzc4uxldiyjvh4u33xq3...</td>\n",
       "      <td>2024-03-24T23:58:00</td>\n",
       "      <td>2024-02-14T15:00:00</td>\n",
       "      <td>42161</td>\n",
       "      <td>180370254</td>\n",
       "      <td>0xaa3600788b72863ff51c8f0db5f10bb65fbfeab4</td>\n",
       "      <td>2024-03-24T23:58:00</td>\n",
       "      <td>2024-03-11T00:00:00</td>\n",
       "      <td>...</td>\n",
       "      <td>0xbcfc9102dfb0c7e811946e804a92c827e633189c</td>\n",
       "      <td>false</td>\n",
       "      <td>0x4e1fa15bcc16af11853bc07da12c7dd41710e6d3</td>\n",
       "      <td></td>\n",
       "      <td>allov1.QF</td>\n",
       "      <td>[\"allo-v1\"]</td>\n",
       "      <td>0.0000</td>\n",
       "      <td>0</td>\n",
       "      <td>0</td>\n",
       "      <td>180370254</td>\n",
       "    </tr>\n",
       "    <tr>\n",
       "      <th>1</th>\n",
       "      <td></td>\n",
       "      <td>{\"version\": \"2.0.0\", \"lastUpdatedOn\": 16978393...</td>\n",
       "      <td>bafkreiejeeh2ummqbbg5u674fchzk57kplonzdeaebe2l...</td>\n",
       "      <td>None</td>\n",
       "      <td>2023-11-01T00:00:00</td>\n",
       "      <td>10</td>\n",
       "      <td>111120277</td>\n",
       "      <td>0x43804905c02f551ec5420a88005bc66a1baf3ab0</td>\n",
       "      <td>None</td>\n",
       "      <td>2023-11-01T00:00:00</td>\n",
       "      <td>...</td>\n",
       "      <td>0x74c27d3300e49b07bc215507471d55dadb130696</td>\n",
       "      <td>None</td>\n",
       "      <td>0x05187c997121c05f407ad9e24ce36be54158db10</td>\n",
       "      <td></td>\n",
       "      <td>allov1.Direct</td>\n",
       "      <td>[\"allo-v1\"]</td>\n",
       "      <td>0.0000</td>\n",
       "      <td>0</td>\n",
       "      <td>0</td>\n",
       "      <td>111120277</td>\n",
       "    </tr>\n",
       "    <tr>\n",
       "      <th>2</th>\n",
       "      <td></td>\n",
       "      <td>{\"version\": \"2.0.0\", \"lastUpdatedOn\": 16956589...</td>\n",
       "      <td>bafkreig7y44xsfckujpmr5foqncdy54kguonwinmaep6l...</td>\n",
       "      <td>None</td>\n",
       "      <td>2023-09-26T00:00:00</td>\n",
       "      <td>10</td>\n",
       "      <td>110030087</td>\n",
       "      <td>0x58338e95caef17861916ef10dad5fafe20421005</td>\n",
       "      <td>None</td>\n",
       "      <td>2023-09-26T00:00:00</td>\n",
       "      <td>...</td>\n",
       "      <td>0x1fdf3ac9576ed0f6b207d4b759b582302b965c8e</td>\n",
       "      <td>None</td>\n",
       "      <td>0xf7d21a59709ec1328b833d35d4eea9bbe529c1c0</td>\n",
       "      <td></td>\n",
       "      <td>allov1.Direct</td>\n",
       "      <td>[\"allo-v1\"]</td>\n",
       "      <td>0.0000</td>\n",
       "      <td>0</td>\n",
       "      <td>0</td>\n",
       "      <td>110030087</td>\n",
       "    </tr>\n",
       "    <tr>\n",
       "      <th>3</th>\n",
       "      <td></td>\n",
       "      <td>{\"version\": \"2.0.0\", \"lastUpdatedOn\": 17070481...</td>\n",
       "      <td>bafkreidul3bgy2ihdrmqmrxegyazxe5fg4equzav34jnm...</td>\n",
       "      <td>2024-05-31T00:00:00</td>\n",
       "      <td>2024-02-04T13:00:00</td>\n",
       "      <td>42161</td>\n",
       "      <td>177348473</td>\n",
       "      <td>0x7380a42137d16a0e7684578d8b3d32e1fbd021b5</td>\n",
       "      <td>2024-05-31T00:00:00</td>\n",
       "      <td>2024-02-05T00:00:00</td>\n",
       "      <td>...</td>\n",
       "      <td>0xde74f98d586b71d1d74d0282499c65cde111a7d9</td>\n",
       "      <td>false</td>\n",
       "      <td>0xdfcb8e177dd457a93b83a09aee5140cc1175ba5d</td>\n",
       "      <td></td>\n",
       "      <td>allov1.QF</td>\n",
       "      <td>[\"allo-v1\"]</td>\n",
       "      <td>160.9271</td>\n",
       "      <td>124</td>\n",
       "      <td>37</td>\n",
       "      <td>177348473</td>\n",
       "    </tr>\n",
       "  </tbody>\n",
       "</table>\n",
       "<p>4 rows × 32 columns</p>\n",
       "</div>"
      ],
      "text/plain": [
       "  admin_role                               application_metadata  \\\n",
       "0             {\"version\": \"2.0.0\", \"lastUpdatedOn\": 17078383...   \n",
       "1             {\"version\": \"2.0.0\", \"lastUpdatedOn\": 16978393...   \n",
       "2             {\"version\": \"2.0.0\", \"lastUpdatedOn\": 16956589...   \n",
       "3             {\"version\": \"2.0.0\", \"lastUpdatedOn\": 17070481...   \n",
       "\n",
       "                            application_metadata_cid applications_end_time  \\\n",
       "0  bafkreihtjfexxqwu7mmwboglnhzc4uxldiyjvh4u33xq3...   2024-03-24T23:58:00   \n",
       "1  bafkreiejeeh2ummqbbg5u674fchzk57kplonzdeaebe2l...                  None   \n",
       "2  bafkreig7y44xsfckujpmr5foqncdy54kguonwinmaep6l...                  None   \n",
       "3  bafkreidul3bgy2ihdrmqmrxegyazxe5fg4equzav34jnm...   2024-05-31T00:00:00   \n",
       "\n",
       "  applications_start_time  chain_id created_at_block  \\\n",
       "0     2024-02-14T15:00:00     42161        180370254   \n",
       "1     2023-11-01T00:00:00        10        111120277   \n",
       "2     2023-09-26T00:00:00        10        110030087   \n",
       "3     2024-02-04T13:00:00     42161        177348473   \n",
       "\n",
       "                           created_by_address   donations_end_time  \\\n",
       "0  0xaa3600788b72863ff51c8f0db5f10bb65fbfeab4  2024-03-24T23:58:00   \n",
       "1  0x43804905c02f551ec5420a88005bc66a1baf3ab0                 None   \n",
       "2  0x58338e95caef17861916ef10dad5fafe20421005                 None   \n",
       "3  0x7380a42137d16a0e7684578d8b3d32e1fbd021b5  2024-05-31T00:00:00   \n",
       "\n",
       "  donations_start_time  ...              round_metadata_program_address  \\\n",
       "0  2024-03-11T00:00:00  ...  0xbcfc9102dfb0c7e811946e804a92c827e633189c   \n",
       "1  2023-11-01T00:00:00  ...  0x74c27d3300e49b07bc215507471d55dadb130696   \n",
       "2  2023-09-26T00:00:00  ...  0x1fdf3ac9576ed0f6b207d4b759b582302b965c8e   \n",
       "3  2024-02-05T00:00:00  ...  0xde74f98d586b71d1d74d0282499c65cde111a7d9   \n",
       "\n",
       "   round_metadata_sybil_defense                            strategy_address  \\\n",
       "0                         false  0x4e1fa15bcc16af11853bc07da12c7dd41710e6d3   \n",
       "1                          None  0x05187c997121c05f407ad9e24ce36be54158db10   \n",
       "2                          None  0xf7d21a59709ec1328b833d35d4eea9bbe529c1c0   \n",
       "3                         false  0xdfcb8e177dd457a93b83a09aee5140cc1175ba5d   \n",
       "\n",
       "  strategy_id  strategy_name         tags total_amount_donated_in_usd  \\\n",
       "0                  allov1.QF  [\"allo-v1\"]                      0.0000   \n",
       "1              allov1.Direct  [\"allo-v1\"]                      0.0000   \n",
       "2              allov1.Direct  [\"allo-v1\"]                      0.0000   \n",
       "3                  allov1.QF  [\"allo-v1\"]                    160.9271   \n",
       "\n",
       "  total_donations_count unique_donors_count updated_at_block  \n",
       "0                     0                   0        180370254  \n",
       "1                     0                   0        111120277  \n",
       "2                     0                   0        110030087  \n",
       "3                   124                  37        177348473  \n",
       "\n",
       "[4 rows x 32 columns]"
      ]
     },
     "metadata": {},
     "output_type": "display_data"
    },
    {
     "data": {
      "text/markdown": [
       "## [allo_subscriptions.parquet](#file-listing)"
      ],
      "text/plain": [
       "<IPython.core.display.Markdown object>"
      ]
     },
     "metadata": {},
     "output_type": "display_data"
    },
    {
     "data": {
      "text/markdown": [
       "chain_id: int64<br>contract_address: string<br>contract_name: string<br>created_at: string<br>from_block: string<br>id: string<br>indexed_to_block: string<br>indexed_to_log_index: int64<br>node_id: string<br>to_block: string<br>updated_at: string"
      ],
      "text/plain": [
       "<IPython.core.display.Markdown object>"
      ]
     },
     "metadata": {},
     "output_type": "display_data"
    },
    {
     "data": {
      "text/html": [
       "<div>\n",
       "<style scoped>\n",
       "    .dataframe tbody tr th:only-of-type {\n",
       "        vertical-align: middle;\n",
       "    }\n",
       "\n",
       "    .dataframe tbody tr th {\n",
       "        vertical-align: top;\n",
       "    }\n",
       "\n",
       "    .dataframe thead th {\n",
       "        text-align: right;\n",
       "    }\n",
       "</style>\n",
       "<table border=\"1\" class=\"dataframe\">\n",
       "  <thead>\n",
       "    <tr style=\"text-align: right;\">\n",
       "      <th></th>\n",
       "      <th>chain_id</th>\n",
       "      <th>contract_address</th>\n",
       "      <th>contract_name</th>\n",
       "      <th>created_at</th>\n",
       "      <th>from_block</th>\n",
       "      <th>id</th>\n",
       "      <th>indexed_to_block</th>\n",
       "      <th>indexed_to_log_index</th>\n",
       "      <th>node_id</th>\n",
       "      <th>to_block</th>\n",
       "      <th>updated_at</th>\n",
       "    </tr>\n",
       "  </thead>\n",
       "  <tbody>\n",
       "    <tr>\n",
       "      <th>0</th>\n",
       "      <td>10</td>\n",
       "      <td>0x005de9495f4e87682647d16db18deacdc8b525ef</td>\n",
       "      <td>AlloV1/ProgramImplementation/V1</td>\n",
       "      <td>2024-02-20T13:57:50.236</td>\n",
       "      <td>110696736</td>\n",
       "      <td>10-0x005De9495f4e87682647d16DB18DeAcdC8b525EF</td>\n",
       "      <td>116454443</td>\n",
       "      <td>0</td>\n",
       "      <td>WyJzdWJzY3JpcHRpb25zIiwiMTAtMHgwMDVEZTk0OTVmNG...</td>\n",
       "      <td>latest</td>\n",
       "      <td>2024-02-21T09:27:45.742544</td>\n",
       "    </tr>\n",
       "    <tr>\n",
       "      <th>1</th>\n",
       "      <td>10</td>\n",
       "      <td>0x00e1e1d5769c18fc07921c2c06d07ccf084fba3f</td>\n",
       "      <td>AlloV1/QuadraticFundingVotingStrategyImplement...</td>\n",
       "      <td>2024-02-20T14:15:26.067</td>\n",
       "      <td>115558292</td>\n",
       "      <td>10-0x00E1E1D5769C18Fc07921c2C06D07cCF084fBA3f</td>\n",
       "      <td>116454443</td>\n",
       "      <td>0</td>\n",
       "      <td>WyJzdWJzY3JpcHRpb25zIiwiMTAtMHgwMEUxRTFENTc2OU...</td>\n",
       "      <td>latest</td>\n",
       "      <td>2024-02-21T09:27:45.767389</td>\n",
       "    </tr>\n",
       "    <tr>\n",
       "      <th>2</th>\n",
       "      <td>10</td>\n",
       "      <td>0x01fb03887570e18eb88507ea7a5e73eca169a516</td>\n",
       "      <td>AlloV1/ProgramImplementation/V1</td>\n",
       "      <td>2024-02-20T13:54:54.996</td>\n",
       "      <td>109263546</td>\n",
       "      <td>10-0x01Fb03887570e18eb88507ea7A5E73ecA169a516</td>\n",
       "      <td>116454443</td>\n",
       "      <td>0</td>\n",
       "      <td>WyJzdWJzY3JpcHRpb25zIiwiMTAtMHgwMUZiMDM4ODc1Nz...</td>\n",
       "      <td>latest</td>\n",
       "      <td>2024-02-21T09:27:45.825769</td>\n",
       "    </tr>\n",
       "    <tr>\n",
       "      <th>3</th>\n",
       "      <td>10</td>\n",
       "      <td>0x0365712d69c2dfdd1a9fdf25972a3a1dc4fb5b1b</td>\n",
       "      <td>AlloV1/ProgramImplementation/V1</td>\n",
       "      <td>2024-02-20T13:33:47.178</td>\n",
       "      <td>97309717</td>\n",
       "      <td>10-0x0365712D69C2dFdd1a9FdF25972A3A1Dc4fB5b1B</td>\n",
       "      <td>116454443</td>\n",
       "      <td>0</td>\n",
       "      <td>WyJzdWJzY3JpcHRpb25zIiwiMTAtMHgwMzY1NzEyRDY5Qz...</td>\n",
       "      <td>latest</td>\n",
       "      <td>2024-02-21T09:27:45.558181</td>\n",
       "    </tr>\n",
       "  </tbody>\n",
       "</table>\n",
       "</div>"
      ],
      "text/plain": [
       "   chain_id                            contract_address  \\\n",
       "0        10  0x005de9495f4e87682647d16db18deacdc8b525ef   \n",
       "1        10  0x00e1e1d5769c18fc07921c2c06d07ccf084fba3f   \n",
       "2        10  0x01fb03887570e18eb88507ea7a5e73eca169a516   \n",
       "3        10  0x0365712d69c2dfdd1a9fdf25972a3a1dc4fb5b1b   \n",
       "\n",
       "                                       contract_name               created_at  \\\n",
       "0                    AlloV1/ProgramImplementation/V1  2024-02-20T13:57:50.236   \n",
       "1  AlloV1/QuadraticFundingVotingStrategyImplement...  2024-02-20T14:15:26.067   \n",
       "2                    AlloV1/ProgramImplementation/V1  2024-02-20T13:54:54.996   \n",
       "3                    AlloV1/ProgramImplementation/V1  2024-02-20T13:33:47.178   \n",
       "\n",
       "  from_block                                             id indexed_to_block  \\\n",
       "0  110696736  10-0x005De9495f4e87682647d16DB18DeAcdC8b525EF        116454443   \n",
       "1  115558292  10-0x00E1E1D5769C18Fc07921c2C06D07cCF084fBA3f        116454443   \n",
       "2  109263546  10-0x01Fb03887570e18eb88507ea7A5E73ecA169a516        116454443   \n",
       "3   97309717  10-0x0365712D69C2dFdd1a9FdF25972A3A1Dc4fB5b1B        116454443   \n",
       "\n",
       "   indexed_to_log_index                                            node_id  \\\n",
       "0                     0  WyJzdWJzY3JpcHRpb25zIiwiMTAtMHgwMDVEZTk0OTVmNG...   \n",
       "1                     0  WyJzdWJzY3JpcHRpb25zIiwiMTAtMHgwMEUxRTFENTc2OU...   \n",
       "2                     0  WyJzdWJzY3JpcHRpb25zIiwiMTAtMHgwMUZiMDM4ODc1Nz...   \n",
       "3                     0  WyJzdWJzY3JpcHRpb25zIiwiMTAtMHgwMzY1NzEyRDY5Qz...   \n",
       "\n",
       "  to_block                  updated_at  \n",
       "0   latest  2024-02-21T09:27:45.742544  \n",
       "1   latest  2024-02-21T09:27:45.767389  \n",
       "2   latest  2024-02-21T09:27:45.825769  \n",
       "3   latest  2024-02-21T09:27:45.558181  "
      ]
     },
     "metadata": {},
     "output_type": "display_data"
    },
    {
     "data": {
      "text/markdown": [
       "## [application_answers.parquet](#file-listing)"
      ],
      "text/plain": [
       "<IPython.core.display.Markdown object>"
      ]
     },
     "metadata": {},
     "output_type": "display_data"
    },
    {
     "data": {
      "text/markdown": [
       "question_id: string<br>project_id: string<br>application_id: string<br>chain_id: int64<br>round_id: string<br>question: string<br>question_type: string<br>answer: string"
      ],
      "text/plain": [
       "<IPython.core.display.Markdown object>"
      ]
     },
     "metadata": {},
     "output_type": "display_data"
    },
    {
     "data": {
      "text/html": [
       "<div>\n",
       "<style scoped>\n",
       "    .dataframe tbody tr th:only-of-type {\n",
       "        vertical-align: middle;\n",
       "    }\n",
       "\n",
       "    .dataframe tbody tr th {\n",
       "        vertical-align: top;\n",
       "    }\n",
       "\n",
       "    .dataframe thead th {\n",
       "        text-align: right;\n",
       "    }\n",
       "</style>\n",
       "<table border=\"1\" class=\"dataframe\">\n",
       "  <thead>\n",
       "    <tr style=\"text-align: right;\">\n",
       "      <th></th>\n",
       "      <th>question_id</th>\n",
       "      <th>project_id</th>\n",
       "      <th>application_id</th>\n",
       "      <th>chain_id</th>\n",
       "      <th>round_id</th>\n",
       "      <th>question</th>\n",
       "      <th>question_type</th>\n",
       "      <th>answer</th>\n",
       "    </tr>\n",
       "  </thead>\n",
       "  <tbody>\n",
       "    <tr>\n",
       "      <th>0</th>\n",
       "      <td>1</td>\n",
       "      <td>0xb25b0a149ce400e9c5906308a7079da37a99c0cab0aa...</td>\n",
       "      <td>0</td>\n",
       "      <td>1</td>\n",
       "      <td>0x05df76bc446cee7ad536e2d23c128c9c8909cf7b</td>\n",
       "      <td>Funding Sources</td>\n",
       "      <td>short-answer</td>\n",
       "      <td>HOME</td>\n",
       "    </tr>\n",
       "    <tr>\n",
       "      <th>1</th>\n",
       "      <td>2</td>\n",
       "      <td>0xb25b0a149ce400e9c5906308a7079da37a99c0cab0aa...</td>\n",
       "      <td>0</td>\n",
       "      <td>1</td>\n",
       "      <td>0x05df76bc446cee7ad536e2d23c128c9c8909cf7b</td>\n",
       "      <td>Team Size</td>\n",
       "      <td>number</td>\n",
       "      <td>1</td>\n",
       "    </tr>\n",
       "    <tr>\n",
       "      <th>2</th>\n",
       "      <td>1</td>\n",
       "      <td>0xaebed2cd5ab824350703b4d037ace0e3c23607e4e501...</td>\n",
       "      <td>1</td>\n",
       "      <td>1</td>\n",
       "      <td>0x05df76bc446cee7ad536e2d23c128c9c8909cf7b</td>\n",
       "      <td>Funding Sources</td>\n",
       "      <td>short-answer</td>\n",
       "      <td>koç holding</td>\n",
       "    </tr>\n",
       "    <tr>\n",
       "      <th>3</th>\n",
       "      <td>2</td>\n",
       "      <td>0xaebed2cd5ab824350703b4d037ace0e3c23607e4e501...</td>\n",
       "      <td>1</td>\n",
       "      <td>1</td>\n",
       "      <td>0x05df76bc446cee7ad536e2d23c128c9c8909cf7b</td>\n",
       "      <td>Team Size</td>\n",
       "      <td>number</td>\n",
       "      <td>21</td>\n",
       "    </tr>\n",
       "  </tbody>\n",
       "</table>\n",
       "</div>"
      ],
      "text/plain": [
       "  question_id                                         project_id  \\\n",
       "0           1  0xb25b0a149ce400e9c5906308a7079da37a99c0cab0aa...   \n",
       "1           2  0xb25b0a149ce400e9c5906308a7079da37a99c0cab0aa...   \n",
       "2           1  0xaebed2cd5ab824350703b4d037ace0e3c23607e4e501...   \n",
       "3           2  0xaebed2cd5ab824350703b4d037ace0e3c23607e4e501...   \n",
       "\n",
       "  application_id  chain_id                                    round_id  \\\n",
       "0              0         1  0x05df76bc446cee7ad536e2d23c128c9c8909cf7b   \n",
       "1              0         1  0x05df76bc446cee7ad536e2d23c128c9c8909cf7b   \n",
       "2              1         1  0x05df76bc446cee7ad536e2d23c128c9c8909cf7b   \n",
       "3              1         1  0x05df76bc446cee7ad536e2d23c128c9c8909cf7b   \n",
       "\n",
       "          question question_type       answer  \n",
       "0  Funding Sources  short-answer         HOME  \n",
       "1        Team Size        number            1  \n",
       "2  Funding Sources  short-answer  koç holding  \n",
       "3        Team Size        number           21  "
      ]
     },
     "metadata": {},
     "output_type": "display_data"
    },
    {
     "data": {
      "text/markdown": [
       "## [chain_metadata.parquet](#file-listing)"
      ],
      "text/plain": [
       "<IPython.core.display.Markdown object>"
      ]
     },
     "metadata": {},
     "output_type": "display_data"
    },
    {
     "data": {
      "text/markdown": [
       "name: int32<br>short_name: int32<br>info_url: int32<br>chain_id: int32<br>network_id: int64<br>native_currency: int32<br>ens: int32<br>explorers: int32<br>rpc: int32<br>parent: int32"
      ],
      "text/plain": [
       "<IPython.core.display.Markdown object>"
      ]
     },
     "metadata": {},
     "output_type": "display_data"
    },
    {
     "data": {
      "text/html": [
       "<div>\n",
       "<style scoped>\n",
       "    .dataframe tbody tr th:only-of-type {\n",
       "        vertical-align: middle;\n",
       "    }\n",
       "\n",
       "    .dataframe tbody tr th {\n",
       "        vertical-align: top;\n",
       "    }\n",
       "\n",
       "    .dataframe thead th {\n",
       "        text-align: right;\n",
       "    }\n",
       "</style>\n",
       "<table border=\"1\" class=\"dataframe\">\n",
       "  <thead>\n",
       "    <tr style=\"text-align: right;\">\n",
       "      <th></th>\n",
       "      <th>name</th>\n",
       "      <th>short_name</th>\n",
       "      <th>info_url</th>\n",
       "      <th>chain_id</th>\n",
       "      <th>network_id</th>\n",
       "      <th>native_currency</th>\n",
       "      <th>ens</th>\n",
       "      <th>explorers</th>\n",
       "      <th>rpc</th>\n",
       "      <th>parent</th>\n",
       "    </tr>\n",
       "  </thead>\n",
       "  <tbody>\n",
       "  </tbody>\n",
       "</table>\n",
       "</div>"
      ],
      "text/plain": [
       "Empty DataFrame\n",
       "Columns: [name, short_name, info_url, chain_id, network_id, native_currency, ens, explorers, rpc, parent]\n",
       "Index: []"
      ]
     },
     "metadata": {},
     "output_type": "display_data"
    },
    {
     "data": {
      "text/markdown": [
       "## [gitcoin_passport_scores.parquet](#file-listing)"
      ],
      "text/plain": [
       "<IPython.core.display.Markdown object>"
      ]
     },
     "metadata": {},
     "output_type": "display_data"
    },
    {
     "data": {
      "text/markdown": [
       "address: string<br>score: double<br>status: string<br>last_score_timestamp: timestamp[us, tz=UTC]<br>evidence_type: string<br>evidence_success: string<br>evidence_raw_score: string<br>evidence_threshold: string"
      ],
      "text/plain": [
       "<IPython.core.display.Markdown object>"
      ]
     },
     "metadata": {},
     "output_type": "display_data"
    },
    {
     "data": {
      "text/html": [
       "<div>\n",
       "<style scoped>\n",
       "    .dataframe tbody tr th:only-of-type {\n",
       "        vertical-align: middle;\n",
       "    }\n",
       "\n",
       "    .dataframe tbody tr th {\n",
       "        vertical-align: top;\n",
       "    }\n",
       "\n",
       "    .dataframe thead th {\n",
       "        text-align: right;\n",
       "    }\n",
       "</style>\n",
       "<table border=\"1\" class=\"dataframe\">\n",
       "  <thead>\n",
       "    <tr style=\"text-align: right;\">\n",
       "      <th></th>\n",
       "      <th>address</th>\n",
       "      <th>score</th>\n",
       "      <th>status</th>\n",
       "      <th>last_score_timestamp</th>\n",
       "      <th>evidence_type</th>\n",
       "      <th>evidence_success</th>\n",
       "      <th>evidence_raw_score</th>\n",
       "      <th>evidence_threshold</th>\n",
       "    </tr>\n",
       "  </thead>\n",
       "  <tbody>\n",
       "    <tr>\n",
       "      <th>0</th>\n",
       "      <td>0x0000000000000000000000000000000000000000</td>\n",
       "      <td>0.0</td>\n",
       "      <td>DONE</td>\n",
       "      <td>2024-02-02 09:39:37.386000+00:00</td>\n",
       "      <td>ThresholdScoreCheck</td>\n",
       "      <td>false</td>\n",
       "      <td>0</td>\n",
       "      <td>20.00000</td>\n",
       "    </tr>\n",
       "    <tr>\n",
       "      <th>1</th>\n",
       "      <td>0x0000000000098341a924bd53454654a0dbbc4e43</td>\n",
       "      <td>0.0</td>\n",
       "      <td>DONE</td>\n",
       "      <td>2024-02-01 22:09:51.734000+00:00</td>\n",
       "      <td>ThresholdScoreCheck</td>\n",
       "      <td>false</td>\n",
       "      <td>0</td>\n",
       "      <td>20.00000</td>\n",
       "    </tr>\n",
       "    <tr>\n",
       "      <th>2</th>\n",
       "      <td>0x00000000000d86e4837ba41dacde4b8713d5ccac</td>\n",
       "      <td>1.0</td>\n",
       "      <td>DONE</td>\n",
       "      <td>2024-02-09 13:23:00.227000+00:00</td>\n",
       "      <td>ThresholdScoreCheck</td>\n",
       "      <td>true</td>\n",
       "      <td>20.032170</td>\n",
       "      <td>20.00000</td>\n",
       "    </tr>\n",
       "    <tr>\n",
       "      <th>3</th>\n",
       "      <td>0x0000000000ce6d8c1fba76f26d6cc5db71432710</td>\n",
       "      <td>0.0</td>\n",
       "      <td>DONE</td>\n",
       "      <td>2024-02-01 22:42:17.357000+00:00</td>\n",
       "      <td>ThresholdScoreCheck</td>\n",
       "      <td>false</td>\n",
       "      <td>14.129292</td>\n",
       "      <td>20.00000</td>\n",
       "    </tr>\n",
       "  </tbody>\n",
       "</table>\n",
       "</div>"
      ],
      "text/plain": [
       "                                      address  score status  \\\n",
       "0  0x0000000000000000000000000000000000000000    0.0   DONE   \n",
       "1  0x0000000000098341a924bd53454654a0dbbc4e43    0.0   DONE   \n",
       "2  0x00000000000d86e4837ba41dacde4b8713d5ccac    1.0   DONE   \n",
       "3  0x0000000000ce6d8c1fba76f26d6cc5db71432710    0.0   DONE   \n",
       "\n",
       "              last_score_timestamp        evidence_type evidence_success  \\\n",
       "0 2024-02-02 09:39:37.386000+00:00  ThresholdScoreCheck            false   \n",
       "1 2024-02-01 22:09:51.734000+00:00  ThresholdScoreCheck            false   \n",
       "2 2024-02-09 13:23:00.227000+00:00  ThresholdScoreCheck             true   \n",
       "3 2024-02-01 22:42:17.357000+00:00  ThresholdScoreCheck            false   \n",
       "\n",
       "  evidence_raw_score evidence_threshold  \n",
       "0                  0           20.00000  \n",
       "1                  0           20.00000  \n",
       "2          20.032170           20.00000  \n",
       "3          14.129292           20.00000  "
      ]
     },
     "metadata": {},
     "output_type": "display_data"
    },
    {
     "data": {
      "text/markdown": [
       "## [giveth_projects.parquet](#file-listing)"
      ],
      "text/plain": [
       "<IPython.core.display.Markdown object>"
      ]
     },
     "metadata": {},
     "output_type": "display_data"
    },
    {
     "data": {
      "text/markdown": [
       "title: string<br>total_donations: double<br>total_trace_donations: double"
      ],
      "text/plain": [
       "<IPython.core.display.Markdown object>"
      ]
     },
     "metadata": {},
     "output_type": "display_data"
    },
    {
     "data": {
      "text/html": [
       "<div>\n",
       "<style scoped>\n",
       "    .dataframe tbody tr th:only-of-type {\n",
       "        vertical-align: middle;\n",
       "    }\n",
       "\n",
       "    .dataframe tbody tr th {\n",
       "        vertical-align: top;\n",
       "    }\n",
       "\n",
       "    .dataframe thead th {\n",
       "        text-align: right;\n",
       "    }\n",
       "</style>\n",
       "<table border=\"1\" class=\"dataframe\">\n",
       "  <thead>\n",
       "    <tr style=\"text-align: right;\">\n",
       "      <th></th>\n",
       "      <th>title</th>\n",
       "      <th>total_donations</th>\n",
       "      <th>total_trace_donations</th>\n",
       "    </tr>\n",
       "  </thead>\n",
       "  <tbody>\n",
       "    <tr>\n",
       "      <th>0</th>\n",
       "      <td>MetaTrace</td>\n",
       "      <td>2667.9192</td>\n",
       "      <td>0.00</td>\n",
       "    </tr>\n",
       "    <tr>\n",
       "      <th>1</th>\n",
       "      <td>The Giveth Community of Makers</td>\n",
       "      <td>109221.7340</td>\n",
       "      <td>85128.21</td>\n",
       "    </tr>\n",
       "    <tr>\n",
       "      <th>2</th>\n",
       "      <td>Bridging Digital Communities</td>\n",
       "      <td>2853.2332</td>\n",
       "      <td>0.00</td>\n",
       "    </tr>\n",
       "    <tr>\n",
       "      <th>3</th>\n",
       "      <td>Diamante Bridge Collective</td>\n",
       "      <td>68786.1250</td>\n",
       "      <td>0.00</td>\n",
       "    </tr>\n",
       "  </tbody>\n",
       "</table>\n",
       "</div>"
      ],
      "text/plain": [
       "                            title  total_donations  total_trace_donations\n",
       "0                       MetaTrace        2667.9192                   0.00\n",
       "1  The Giveth Community of Makers      109221.7340               85128.21\n",
       "2    Bridging Digital Communities        2853.2332                   0.00\n",
       "3     Diamante Bridge Collective        68786.1250                   0.00"
      ]
     },
     "metadata": {},
     "output_type": "display_data"
    },
    {
     "data": {
      "text/markdown": [
       "## [public_ethereum_project_registry_tx.parquet](#file-listing)"
      ],
      "text/plain": [
       "<IPython.core.display.Markdown object>"
      ]
     },
     "metadata": {},
     "output_type": "display_data"
    },
    {
     "data": {
      "text/markdown": [
       "block_signed_at: string<br>block_height: int64<br>block_hash: string<br>tx_hash: string<br>tx_offset: int64<br>successful: bool<br>miner_address: string<br>from_address: string<br>from_address_label: int32<br>to_address: string<br>to_address_label: int32<br>value: string<br>value_quote: double<br>pretty_value_quote: string<br>gas_metadata: struct<contract_decimals: int32, contract_name: string, contract_ticker_symbol: string, contract_address: string, supports_erc: int32, logo_url: string><br>  child 0, contract_decimals: int32<br>  child 1, contract_name: string<br>  child 2, contract_ticker_symbol: string<br>  child 3, contract_address: string<br>  child 4, supports_erc: int32<br>  child 5, logo_url: string<br>gas_offered: int64<br>gas_spent: int64<br>gas_price: int64<br>fees_paid: string<br>gas_quote: double<br>pretty_gas_quote: string<br>gas_quote_rate: double<br>explorers: list<element: struct<label: int32, url: string>><br>  child 0, element: struct<label: int32, url: string><br>      child 0, label: int32<br>      child 1, url: string<br>log_events: list<element: struct<block_signed_at: string, block_height: int32, tx_offset: int32, log_offset: int32, tx_hash: string, raw_log_topics: list<element: string>, sender_contract_decimals: int32, sender_name: int32, sender_contract_ticker_symbol: int32, sender_address: string, sender_address_label: int32, sender_logo_url: string, raw_log_data: string, decoded: struct<name: string, signature: string, params: list<element: struct<name: string, type: string, indexed: bool, decoded: bool, value: string>>>>><br>  child 0, element: struct<block_signed_at: string, block_height: int32, tx_offset: int32, log_offset: int32, tx_hash: string, raw_log_topics: list<element: string>, sender_contract_decimals: int32, sender_name: int32, sender_contract_ticker_symbol: int32, sender_address: string, sender_address_label: int32, sender_logo_url: string, raw_log_data: string, decoded: struct<name: string, signature: string, params: list<element: struct<name: string, type: string, indexed: bool, decoded: bool, value: string>>>><br>      child 0, block_signed_at: string<br>      child 1, block_height: int32<br>      child 2, tx_offset: int32<br>      child 3, log_offset: int32<br>      child 4, tx_hash: string<br>      child 5, raw_log_topics: list<element: string><br>          child 0, element: string<br>      child 6, sender_contract_decimals: int32<br>      child 7, sender_name: int32<br>      child 8, sender_contract_ticker_symbol: int32<br>      child 9, sender_address: string<br>      child 10, sender_address_label: int32<br>      child 11, sender_logo_url: string<br>      child 12, raw_log_data: string<br>      child 13, decoded: struct<name: string, signature: string, params: list<element: struct<name: string, type: string, indexed: bool, decoded: bool, value: string>>><br>          child 0, name: string<br>          child 1, signature: string<br>          child 2, params: list<element: struct<name: string, type: string, indexed: bool, decoded: bool, value: string>><br>              child 0, element: struct<name: string, type: string, indexed: bool, decoded: bool, value: string><br>                  child 0, name: string<br>                  child 1, type: string<br>                  child 2, indexed: bool<br>                  child 3, decoded: bool<br>                  child 4, value: string"
      ],
      "text/plain": [
       "<IPython.core.display.Markdown object>"
      ]
     },
     "metadata": {},
     "output_type": "display_data"
    },
    {
     "data": {
      "text/html": [
       "<div>\n",
       "<style scoped>\n",
       "    .dataframe tbody tr th:only-of-type {\n",
       "        vertical-align: middle;\n",
       "    }\n",
       "\n",
       "    .dataframe tbody tr th {\n",
       "        vertical-align: top;\n",
       "    }\n",
       "\n",
       "    .dataframe thead th {\n",
       "        text-align: right;\n",
       "    }\n",
       "</style>\n",
       "<table border=\"1\" class=\"dataframe\">\n",
       "  <thead>\n",
       "    <tr style=\"text-align: right;\">\n",
       "      <th></th>\n",
       "      <th>block_signed_at</th>\n",
       "      <th>block_height</th>\n",
       "      <th>block_hash</th>\n",
       "      <th>tx_hash</th>\n",
       "      <th>tx_offset</th>\n",
       "      <th>successful</th>\n",
       "      <th>miner_address</th>\n",
       "      <th>from_address</th>\n",
       "      <th>from_address_label</th>\n",
       "      <th>to_address</th>\n",
       "      <th>...</th>\n",
       "      <th>gas_metadata</th>\n",
       "      <th>gas_offered</th>\n",
       "      <th>gas_spent</th>\n",
       "      <th>gas_price</th>\n",
       "      <th>fees_paid</th>\n",
       "      <th>gas_quote</th>\n",
       "      <th>pretty_gas_quote</th>\n",
       "      <th>gas_quote_rate</th>\n",
       "      <th>explorers</th>\n",
       "      <th>log_events</th>\n",
       "    </tr>\n",
       "  </thead>\n",
       "  <tbody>\n",
       "    <tr>\n",
       "      <th>0</th>\n",
       "      <td>2023-01-12T00:37:35Z</td>\n",
       "      <td>16387186</td>\n",
       "      <td>0x0a504c6ae7b1191452832d06a094283b13d12c46d5d1...</td>\n",
       "      <td>0x3857de13d274d011c730e1f2227ac53915db67633891...</td>\n",
       "      <td>90</td>\n",
       "      <td>True</td>\n",
       "      <td>0x95222290dd7278aa3ddd389cc1e1d165cc4bafe5</td>\n",
       "      <td>0x05e0a46a3a96478f8c6915f57e8089b3397e7cea</td>\n",
       "      <td>NaN</td>\n",
       "      <td>0x03506ed3f57892c85db20c36846e9c808afe9ef4</td>\n",
       "      <td>...</td>\n",
       "      <td>{'contract_decimals': 18, 'contract_name': 'Et...</td>\n",
       "      <td>51386</td>\n",
       "      <td>51091</td>\n",
       "      <td>26771078272</td>\n",
       "      <td>1367761159994752</td>\n",
       "      <td>1.938205</td>\n",
       "      <td>$1.94</td>\n",
       "      <td>1417.064058</td>\n",
       "      <td>[{'label': None, 'url': 'https://etherscan.io/...</td>\n",
       "      <td>[{'block_signed_at': '2023-01-12T00:37:35Z', '...</td>\n",
       "    </tr>\n",
       "    <tr>\n",
       "      <th>1</th>\n",
       "      <td>2023-01-12T00:05:59Z</td>\n",
       "      <td>16387028</td>\n",
       "      <td>0x6a0067ee25a68e913c5739c3049d649c241285b59400...</td>\n",
       "      <td>0x861686470fd0fd1fd6b1e27a8844e3d52ce42434b44f...</td>\n",
       "      <td>91</td>\n",
       "      <td>True</td>\n",
       "      <td>0xdafea492d9c6733ae3d56b7ed1adb60692c98bc5</td>\n",
       "      <td>0xd704c5f9826191f3bd06cae867d0f20cafa8aeba</td>\n",
       "      <td>NaN</td>\n",
       "      <td>0x03506ed3f57892c85db20c36846e9c808afe9ef4</td>\n",
       "      <td>...</td>\n",
       "      <td>{'contract_decimals': 18, 'contract_name': 'Et...</td>\n",
       "      <td>220784</td>\n",
       "      <td>217840</td>\n",
       "      <td>36916786753</td>\n",
       "      <td>8041952826273520</td>\n",
       "      <td>11.395962</td>\n",
       "      <td>$11.40</td>\n",
       "      <td>1417.064058</td>\n",
       "      <td>[{'label': None, 'url': 'https://etherscan.io/...</td>\n",
       "      <td>[{'block_signed_at': '2023-01-12T00:05:59Z', '...</td>\n",
       "    </tr>\n",
       "    <tr>\n",
       "      <th>2</th>\n",
       "      <td>2023-01-11T23:49:23Z</td>\n",
       "      <td>16386946</td>\n",
       "      <td>0x2891969e361e291c17c514376af27d6ac8e45372757f...</td>\n",
       "      <td>0xbd8fa1e6f7da94de4bb8f9f88a373cbb07aee7176044...</td>\n",
       "      <td>67</td>\n",
       "      <td>True</td>\n",
       "      <td>0xaab27b150451726ec7738aa1d0a94505c8729bd1</td>\n",
       "      <td>0x0e4d2ec48f03a9ed9068eea2926de34b6ab8646b</td>\n",
       "      <td>NaN</td>\n",
       "      <td>0x03506ed3f57892c85db20c36846e9c808afe9ef4</td>\n",
       "      <td>...</td>\n",
       "      <td>{'contract_decimals': 18, 'contract_name': 'Et...</td>\n",
       "      <td>220784</td>\n",
       "      <td>217840</td>\n",
       "      <td>27049669751</td>\n",
       "      <td>5892500058557840</td>\n",
       "      <td>8.200124</td>\n",
       "      <td>$8.20</td>\n",
       "      <td>1391.620537</td>\n",
       "      <td>[{'label': None, 'url': 'https://etherscan.io/...</td>\n",
       "      <td>[{'block_signed_at': '2023-01-11T23:49:23Z', '...</td>\n",
       "    </tr>\n",
       "    <tr>\n",
       "      <th>3</th>\n",
       "      <td>2023-01-11T23:32:23Z</td>\n",
       "      <td>16386861</td>\n",
       "      <td>0x2e9edf9e52cc0a9760b4216b5a1b551e4c801e616d0f...</td>\n",
       "      <td>0xf3a92a332f627126c80401f108f323059661986f9878...</td>\n",
       "      <td>85</td>\n",
       "      <td>True</td>\n",
       "      <td>0xdafea492d9c6733ae3d56b7ed1adb60692c98bc5</td>\n",
       "      <td>0x14cb60f6aca2b2a68d975743bacb33f01f587da5</td>\n",
       "      <td>NaN</td>\n",
       "      <td>0x03506ed3f57892c85db20c36846e9c808afe9ef4</td>\n",
       "      <td>...</td>\n",
       "      <td>{'contract_decimals': 18, 'contract_name': 'Et...</td>\n",
       "      <td>220784</td>\n",
       "      <td>217840</td>\n",
       "      <td>36681941762</td>\n",
       "      <td>7990794193434080</td>\n",
       "      <td>11.120153</td>\n",
       "      <td>$11.12</td>\n",
       "      <td>1391.620537</td>\n",
       "      <td>[{'label': None, 'url': 'https://etherscan.io/...</td>\n",
       "      <td>[{'block_signed_at': '2023-01-11T23:32:23Z', '...</td>\n",
       "    </tr>\n",
       "  </tbody>\n",
       "</table>\n",
       "<p>4 rows × 24 columns</p>\n",
       "</div>"
      ],
      "text/plain": [
       "        block_signed_at  block_height  \\\n",
       "0  2023-01-12T00:37:35Z      16387186   \n",
       "1  2023-01-12T00:05:59Z      16387028   \n",
       "2  2023-01-11T23:49:23Z      16386946   \n",
       "3  2023-01-11T23:32:23Z      16386861   \n",
       "\n",
       "                                          block_hash  \\\n",
       "0  0x0a504c6ae7b1191452832d06a094283b13d12c46d5d1...   \n",
       "1  0x6a0067ee25a68e913c5739c3049d649c241285b59400...   \n",
       "2  0x2891969e361e291c17c514376af27d6ac8e45372757f...   \n",
       "3  0x2e9edf9e52cc0a9760b4216b5a1b551e4c801e616d0f...   \n",
       "\n",
       "                                             tx_hash  tx_offset  successful  \\\n",
       "0  0x3857de13d274d011c730e1f2227ac53915db67633891...         90        True   \n",
       "1  0x861686470fd0fd1fd6b1e27a8844e3d52ce42434b44f...         91        True   \n",
       "2  0xbd8fa1e6f7da94de4bb8f9f88a373cbb07aee7176044...         67        True   \n",
       "3  0xf3a92a332f627126c80401f108f323059661986f9878...         85        True   \n",
       "\n",
       "                                miner_address  \\\n",
       "0  0x95222290dd7278aa3ddd389cc1e1d165cc4bafe5   \n",
       "1  0xdafea492d9c6733ae3d56b7ed1adb60692c98bc5   \n",
       "2  0xaab27b150451726ec7738aa1d0a94505c8729bd1   \n",
       "3  0xdafea492d9c6733ae3d56b7ed1adb60692c98bc5   \n",
       "\n",
       "                                 from_address  from_address_label  \\\n",
       "0  0x05e0a46a3a96478f8c6915f57e8089b3397e7cea                 NaN   \n",
       "1  0xd704c5f9826191f3bd06cae867d0f20cafa8aeba                 NaN   \n",
       "2  0x0e4d2ec48f03a9ed9068eea2926de34b6ab8646b                 NaN   \n",
       "3  0x14cb60f6aca2b2a68d975743bacb33f01f587da5                 NaN   \n",
       "\n",
       "                                   to_address  ...  \\\n",
       "0  0x03506ed3f57892c85db20c36846e9c808afe9ef4  ...   \n",
       "1  0x03506ed3f57892c85db20c36846e9c808afe9ef4  ...   \n",
       "2  0x03506ed3f57892c85db20c36846e9c808afe9ef4  ...   \n",
       "3  0x03506ed3f57892c85db20c36846e9c808afe9ef4  ...   \n",
       "\n",
       "                                        gas_metadata gas_offered  gas_spent  \\\n",
       "0  {'contract_decimals': 18, 'contract_name': 'Et...       51386      51091   \n",
       "1  {'contract_decimals': 18, 'contract_name': 'Et...      220784     217840   \n",
       "2  {'contract_decimals': 18, 'contract_name': 'Et...      220784     217840   \n",
       "3  {'contract_decimals': 18, 'contract_name': 'Et...      220784     217840   \n",
       "\n",
       "     gas_price         fees_paid  gas_quote  pretty_gas_quote  gas_quote_rate  \\\n",
       "0  26771078272  1367761159994752   1.938205             $1.94     1417.064058   \n",
       "1  36916786753  8041952826273520  11.395962            $11.40     1417.064058   \n",
       "2  27049669751  5892500058557840   8.200124             $8.20     1391.620537   \n",
       "3  36681941762  7990794193434080  11.120153            $11.12     1391.620537   \n",
       "\n",
       "                                           explorers  \\\n",
       "0  [{'label': None, 'url': 'https://etherscan.io/...   \n",
       "1  [{'label': None, 'url': 'https://etherscan.io/...   \n",
       "2  [{'label': None, 'url': 'https://etherscan.io/...   \n",
       "3  [{'label': None, 'url': 'https://etherscan.io/...   \n",
       "\n",
       "                                          log_events  \n",
       "0  [{'block_signed_at': '2023-01-12T00:37:35Z', '...  \n",
       "1  [{'block_signed_at': '2023-01-12T00:05:59Z', '...  \n",
       "2  [{'block_signed_at': '2023-01-11T23:49:23Z', '...  \n",
       "3  [{'block_signed_at': '2023-01-11T23:32:23Z', '...  \n",
       "\n",
       "[4 rows x 24 columns]"
      ]
     },
     "metadata": {},
     "output_type": "display_data"
    }
   ],
   "source": [
    "# | output: asis\n",
    "\n",
    "import pandas as pd\n",
    "from pyarrow import parquet as pq\n",
    "\n",
    "\n",
    "def print_file_sections(files, with_schema=True):\n",
    "    for file_name in files:\n",
    "        file_path = os.path.join(EXPORT_PATH, file_name)\n",
    "        if not os.path.exists(file_path):\n",
    "            print(f\"File not found: {file_name}\")\n",
    "            continue\n",
    "\n",
    "        md(f\"## [{file_name}](#file-listing)\")\n",
    "\n",
    "        if with_schema:\n",
    "            try:\n",
    "                schema = pq.read_schema(file_path)\n",
    "                schema_str = str(schema).replace(\"\\n\", \"<br>\")\n",
    "                md(schema_str)\n",
    "\n",
    "            except Exception as e:\n",
    "                print(\"Could not read schema:\", e)\n",
    "\n",
    "        display(pd.read_parquet(file_path).head(4))\n",
    "\n",
    "\n",
    "print_file_sections(processed_files, with_schema=True)"
   ]
  },
  {
   "cell_type": "markdown",
   "metadata": {},
   "source": [
    "## Raw Files"
   ]
  },
  {
   "cell_type": "code",
   "execution_count": 4,
   "metadata": {},
   "outputs": [
    {
     "data": {
      "text/markdown": [
       "## [public_raw_allo_applications.parquet](#file-listing)"
      ],
      "text/plain": [
       "<IPython.core.display.Markdown object>"
      ]
     },
     "metadata": {},
     "output_type": "display_data"
    },
    {
     "data": {
      "text/markdown": [
       "anchorAddress: string<br>chainId: int64<br>createdAtBlock: string<br>createdByAddress: string<br>id: string<br>metadata: string<br>metadataCid: string<br>nodeId: string<br>projectId: string<br>roundId: string<br>status: string<br>statusSnapshots: list<element: struct<status: string, statusUpdatedAtBlock: struct<type: string, value: string>>><br>  child 0, element: struct<status: string, statusUpdatedAtBlock: struct<type: string, value: string>><br>      child 0, status: string<br>      child 1, statusUpdatedAtBlock: struct<type: string, value: string><br>          child 0, type: string<br>          child 1, value: string<br>statusUpdatedAtBlock: string<br>tags: list<element: string><br>  child 0, element: string<br>totalAmountDonatedInUsd: double<br>totalDonationsCount: int64<br>uniqueDonorsCount: int64"
      ],
      "text/plain": [
       "<IPython.core.display.Markdown object>"
      ]
     },
     "metadata": {},
     "output_type": "display_data"
    },
    {
     "data": {
      "text/html": [
       "<div>\n",
       "<style scoped>\n",
       "    .dataframe tbody tr th:only-of-type {\n",
       "        vertical-align: middle;\n",
       "    }\n",
       "\n",
       "    .dataframe tbody tr th {\n",
       "        vertical-align: top;\n",
       "    }\n",
       "\n",
       "    .dataframe thead th {\n",
       "        text-align: right;\n",
       "    }\n",
       "</style>\n",
       "<table border=\"1\" class=\"dataframe\">\n",
       "  <thead>\n",
       "    <tr style=\"text-align: right;\">\n",
       "      <th></th>\n",
       "      <th>anchorAddress</th>\n",
       "      <th>chainId</th>\n",
       "      <th>createdAtBlock</th>\n",
       "      <th>createdByAddress</th>\n",
       "      <th>id</th>\n",
       "      <th>metadata</th>\n",
       "      <th>metadataCid</th>\n",
       "      <th>nodeId</th>\n",
       "      <th>projectId</th>\n",
       "      <th>roundId</th>\n",
       "      <th>status</th>\n",
       "      <th>statusSnapshots</th>\n",
       "      <th>statusUpdatedAtBlock</th>\n",
       "      <th>tags</th>\n",
       "      <th>totalAmountDonatedInUsd</th>\n",
       "      <th>totalDonationsCount</th>\n",
       "      <th>uniqueDonorsCount</th>\n",
       "    </tr>\n",
       "  </thead>\n",
       "  <tbody>\n",
       "    <tr>\n",
       "      <th>0</th>\n",
       "      <td>None</td>\n",
       "      <td>1</td>\n",
       "      <td>17787259</td>\n",
       "      <td>0xf2af41a645f7b439ed4c9149d1ce687d33181b93</td>\n",
       "      <td>0</td>\n",
       "      <td>{\"signature\": \"0x471f4b214d70e1fc15dbfe7e8f4a5...</td>\n",
       "      <td>bafkreiawz7cmcfmydfhtmro2oluzuzvfzsbs7idihxzjh...</td>\n",
       "      <td>WyJhcHBsaWNhdGlvbnMiLDEsIjB4MDVkZjc2YmM0NDZjZW...</td>\n",
       "      <td>0xb25b0a149ce400e9c5906308a7079da37a99c0cab0aa...</td>\n",
       "      <td>0x05df76bc446cee7ad536e2d23c128c9c8909cf7b</td>\n",
       "      <td>PENDING</td>\n",
       "      <td>[{'status': 'PENDING', 'statusUpdatedAtBlock':...</td>\n",
       "      <td>17787259</td>\n",
       "      <td>[allo-v1]</td>\n",
       "      <td>0.00000</td>\n",
       "      <td>0</td>\n",
       "      <td>0</td>\n",
       "    </tr>\n",
       "    <tr>\n",
       "      <th>1</th>\n",
       "      <td>None</td>\n",
       "      <td>1</td>\n",
       "      <td>17802994</td>\n",
       "      <td>0x6da84e637ffb51c69de568a11828a30b4886d5cb</td>\n",
       "      <td>1</td>\n",
       "      <td>{\"signature\": \"0x69d0a4b51f548782de428ed699408...</td>\n",
       "      <td>bafkreifegp2jfsgidvve6xednoixiryjawro3fmfkiz3q...</td>\n",
       "      <td>WyJhcHBsaWNhdGlvbnMiLDEsIjB4MDVkZjc2YmM0NDZjZW...</td>\n",
       "      <td>0xaebed2cd5ab824350703b4d037ace0e3c23607e4e501...</td>\n",
       "      <td>0x05df76bc446cee7ad536e2d23c128c9c8909cf7b</td>\n",
       "      <td>PENDING</td>\n",
       "      <td>[{'status': 'PENDING', 'statusUpdatedAtBlock':...</td>\n",
       "      <td>17802994</td>\n",
       "      <td>[allo-v1]</td>\n",
       "      <td>0.00000</td>\n",
       "      <td>0</td>\n",
       "      <td>0</td>\n",
       "    </tr>\n",
       "    <tr>\n",
       "      <th>2</th>\n",
       "      <td>None</td>\n",
       "      <td>1</td>\n",
       "      <td>17031319</td>\n",
       "      <td>0xff2abef3af9655d96da983916e066134adea6390</td>\n",
       "      <td>0</td>\n",
       "      <td>{\"signature\": \"0x4c3db176694bdfc0f9e4a04738205...</td>\n",
       "      <td>bafkreibopq7uesrp5amqsqnyrwmfikem5iweivwbkzyht...</td>\n",
       "      <td>WyJhcHBsaWNhdGlvbnMiLDEsIjB4MTJiYjViYmJmZTU5Nm...</td>\n",
       "      <td>0x6aeb3ddab061203d32594b03901bf458679a66fbeab9...</td>\n",
       "      <td>0x12bb5bbbfe596dbc489d209299b8302c3300fa40</td>\n",
       "      <td>APPROVED</td>\n",
       "      <td>[{'status': 'PENDING', 'statusUpdatedAtBlock':...</td>\n",
       "      <td>17170541</td>\n",
       "      <td>[allo-v1]</td>\n",
       "      <td>876.12115</td>\n",
       "      <td>216</td>\n",
       "      <td>211</td>\n",
       "    </tr>\n",
       "    <tr>\n",
       "      <th>3</th>\n",
       "      <td>None</td>\n",
       "      <td>1</td>\n",
       "      <td>17033387</td>\n",
       "      <td>0xb17b3e7910af9d232cb683c083ef73c34521fc8a</td>\n",
       "      <td>1</td>\n",
       "      <td>{\"signature\": \"0xc9f5e29fcb4db0b0c9a5909f68c16...</td>\n",
       "      <td>bafkreiazdoqxpfeeazyfonpnzgpfd5rfa5aukq5jkmkhd...</td>\n",
       "      <td>WyJhcHBsaWNhdGlvbnMiLDEsIjB4MTJiYjViYmJmZTU5Nm...</td>\n",
       "      <td>0xdeffc2d190ddec88d06ba86e1eb09abe5a9ccb49ab1d...</td>\n",
       "      <td>0x12bb5bbbfe596dbc489d209299b8302c3300fa40</td>\n",
       "      <td>APPROVED</td>\n",
       "      <td>[{'status': 'PENDING', 'statusUpdatedAtBlock':...</td>\n",
       "      <td>17170541</td>\n",
       "      <td>[allo-v1]</td>\n",
       "      <td>268.81372</td>\n",
       "      <td>54</td>\n",
       "      <td>51</td>\n",
       "    </tr>\n",
       "  </tbody>\n",
       "</table>\n",
       "</div>"
      ],
      "text/plain": [
       "  anchorAddress  chainId createdAtBlock  \\\n",
       "0          None        1       17787259   \n",
       "1          None        1       17802994   \n",
       "2          None        1       17031319   \n",
       "3          None        1       17033387   \n",
       "\n",
       "                             createdByAddress id  \\\n",
       "0  0xf2af41a645f7b439ed4c9149d1ce687d33181b93  0   \n",
       "1  0x6da84e637ffb51c69de568a11828a30b4886d5cb  1   \n",
       "2  0xff2abef3af9655d96da983916e066134adea6390  0   \n",
       "3  0xb17b3e7910af9d232cb683c083ef73c34521fc8a  1   \n",
       "\n",
       "                                            metadata  \\\n",
       "0  {\"signature\": \"0x471f4b214d70e1fc15dbfe7e8f4a5...   \n",
       "1  {\"signature\": \"0x69d0a4b51f548782de428ed699408...   \n",
       "2  {\"signature\": \"0x4c3db176694bdfc0f9e4a04738205...   \n",
       "3  {\"signature\": \"0xc9f5e29fcb4db0b0c9a5909f68c16...   \n",
       "\n",
       "                                         metadataCid  \\\n",
       "0  bafkreiawz7cmcfmydfhtmro2oluzuzvfzsbs7idihxzjh...   \n",
       "1  bafkreifegp2jfsgidvve6xednoixiryjawro3fmfkiz3q...   \n",
       "2  bafkreibopq7uesrp5amqsqnyrwmfikem5iweivwbkzyht...   \n",
       "3  bafkreiazdoqxpfeeazyfonpnzgpfd5rfa5aukq5jkmkhd...   \n",
       "\n",
       "                                              nodeId  \\\n",
       "0  WyJhcHBsaWNhdGlvbnMiLDEsIjB4MDVkZjc2YmM0NDZjZW...   \n",
       "1  WyJhcHBsaWNhdGlvbnMiLDEsIjB4MDVkZjc2YmM0NDZjZW...   \n",
       "2  WyJhcHBsaWNhdGlvbnMiLDEsIjB4MTJiYjViYmJmZTU5Nm...   \n",
       "3  WyJhcHBsaWNhdGlvbnMiLDEsIjB4MTJiYjViYmJmZTU5Nm...   \n",
       "\n",
       "                                           projectId  \\\n",
       "0  0xb25b0a149ce400e9c5906308a7079da37a99c0cab0aa...   \n",
       "1  0xaebed2cd5ab824350703b4d037ace0e3c23607e4e501...   \n",
       "2  0x6aeb3ddab061203d32594b03901bf458679a66fbeab9...   \n",
       "3  0xdeffc2d190ddec88d06ba86e1eb09abe5a9ccb49ab1d...   \n",
       "\n",
       "                                      roundId    status  \\\n",
       "0  0x05df76bc446cee7ad536e2d23c128c9c8909cf7b   PENDING   \n",
       "1  0x05df76bc446cee7ad536e2d23c128c9c8909cf7b   PENDING   \n",
       "2  0x12bb5bbbfe596dbc489d209299b8302c3300fa40  APPROVED   \n",
       "3  0x12bb5bbbfe596dbc489d209299b8302c3300fa40  APPROVED   \n",
       "\n",
       "                                     statusSnapshots statusUpdatedAtBlock  \\\n",
       "0  [{'status': 'PENDING', 'statusUpdatedAtBlock':...             17787259   \n",
       "1  [{'status': 'PENDING', 'statusUpdatedAtBlock':...             17802994   \n",
       "2  [{'status': 'PENDING', 'statusUpdatedAtBlock':...             17170541   \n",
       "3  [{'status': 'PENDING', 'statusUpdatedAtBlock':...             17170541   \n",
       "\n",
       "        tags  totalAmountDonatedInUsd  totalDonationsCount  uniqueDonorsCount  \n",
       "0  [allo-v1]                  0.00000                    0                  0  \n",
       "1  [allo-v1]                  0.00000                    0                  0  \n",
       "2  [allo-v1]                876.12115                  216                211  \n",
       "3  [allo-v1]                268.81372                   54                 51  "
      ]
     },
     "metadata": {},
     "output_type": "display_data"
    },
    {
     "data": {
      "text/markdown": [
       "## [public_raw_allo_deployments.parquet](#file-listing)"
      ],
      "text/plain": [
       "<IPython.core.display.Markdown object>"
      ]
     },
     "metadata": {},
     "output_type": "display_data"
    },
    {
     "data": {
      "text/markdown": [
       "address: string<br>chain_name: string<br>contract: string"
      ],
      "text/plain": [
       "<IPython.core.display.Markdown object>"
      ]
     },
     "metadata": {},
     "output_type": "display_data"
    },
    {
     "data": {
      "text/html": [
       "<div>\n",
       "<style scoped>\n",
       "    .dataframe tbody tr th:only-of-type {\n",
       "        vertical-align: middle;\n",
       "    }\n",
       "\n",
       "    .dataframe tbody tr th {\n",
       "        vertical-align: top;\n",
       "    }\n",
       "\n",
       "    .dataframe thead th {\n",
       "        text-align: right;\n",
       "    }\n",
       "</style>\n",
       "<table border=\"1\" class=\"dataframe\">\n",
       "  <thead>\n",
       "    <tr style=\"text-align: right;\">\n",
       "      <th></th>\n",
       "      <th>address</th>\n",
       "      <th>chain_name</th>\n",
       "      <th>contract</th>\n",
       "    </tr>\n",
       "  </thead>\n",
       "  <tbody>\n",
       "    <tr>\n",
       "      <th>0</th>\n",
       "      <td>0x56296242ca408ba36393f3981879ff9692f193cc</td>\n",
       "      <td>Ethereum Mainnet</td>\n",
       "      <td>ProgramFactory</td>\n",
       "    </tr>\n",
       "    <tr>\n",
       "      <th>1</th>\n",
       "      <td>0x0bfa0aaf5f2d81f859e85c8e82a3fc5b624fc6e8</td>\n",
       "      <td>Ethereum Mainnet</td>\n",
       "      <td>ProgramImplementation</td>\n",
       "    </tr>\n",
       "    <tr>\n",
       "      <th>2</th>\n",
       "      <td>0x4a850f463d1c4842937c5bc9540dbc803d744c9f</td>\n",
       "      <td>Ethereum Mainnet</td>\n",
       "      <td>QuadraticFundingVotingStrategyFactory</td>\n",
       "    </tr>\n",
       "    <tr>\n",
       "      <th>3</th>\n",
       "      <td>0xddc143f736f912ae6aaf2fcef2c78b267745b0f2</td>\n",
       "      <td>Ethereum Mainnet</td>\n",
       "      <td>QFVotingStrategyImplementation</td>\n",
       "    </tr>\n",
       "  </tbody>\n",
       "</table>\n",
       "</div>"
      ],
      "text/plain": [
       "                                      address        chain_name  \\\n",
       "0  0x56296242ca408ba36393f3981879ff9692f193cc  Ethereum Mainnet   \n",
       "1  0x0bfa0aaf5f2d81f859e85c8e82a3fc5b624fc6e8  Ethereum Mainnet   \n",
       "2  0x4a850f463d1c4842937c5bc9540dbc803d744c9f  Ethereum Mainnet   \n",
       "3  0xddc143f736f912ae6aaf2fcef2c78b267745b0f2  Ethereum Mainnet   \n",
       "\n",
       "                                contract  \n",
       "0                         ProgramFactory  \n",
       "1                  ProgramImplementation  \n",
       "2  QuadraticFundingVotingStrategyFactory  \n",
       "3         QFVotingStrategyImplementation  "
      ]
     },
     "metadata": {},
     "output_type": "display_data"
    },
    {
     "data": {
      "text/markdown": [
       "## [public_raw_allo_donations.parquet](#file-listing)"
      ],
      "text/plain": [
       "<IPython.core.display.Markdown object>"
      ]
     },
     "metadata": {},
     "output_type": "display_data"
    },
    {
     "data": {
      "text/markdown": [
       "amountInUsd: double<br>amount: string<br>amountInRoundMatchToken: string<br>applicationId: string<br>blockNumber: string<br>chainId: int64<br>id: string<br>donorAddress: string<br>nodeId: string<br>projectId: string<br>recipientAddress: string<br>roundId: string<br>tokenAddress: string<br>transactionHash: string"
      ],
      "text/plain": [
       "<IPython.core.display.Markdown object>"
      ]
     },
     "metadata": {},
     "output_type": "display_data"
    },
    {
     "data": {
      "text/html": [
       "<div>\n",
       "<style scoped>\n",
       "    .dataframe tbody tr th:only-of-type {\n",
       "        vertical-align: middle;\n",
       "    }\n",
       "\n",
       "    .dataframe tbody tr th {\n",
       "        vertical-align: top;\n",
       "    }\n",
       "\n",
       "    .dataframe thead th {\n",
       "        text-align: right;\n",
       "    }\n",
       "</style>\n",
       "<table border=\"1\" class=\"dataframe\">\n",
       "  <thead>\n",
       "    <tr style=\"text-align: right;\">\n",
       "      <th></th>\n",
       "      <th>amountInUsd</th>\n",
       "      <th>amount</th>\n",
       "      <th>amountInRoundMatchToken</th>\n",
       "      <th>applicationId</th>\n",
       "      <th>blockNumber</th>\n",
       "      <th>chainId</th>\n",
       "      <th>id</th>\n",
       "      <th>donorAddress</th>\n",
       "      <th>nodeId</th>\n",
       "      <th>projectId</th>\n",
       "      <th>recipientAddress</th>\n",
       "      <th>roundId</th>\n",
       "      <th>tokenAddress</th>\n",
       "      <th>transactionHash</th>\n",
       "    </tr>\n",
       "  </thead>\n",
       "  <tbody>\n",
       "    <tr>\n",
       "      <th>0</th>\n",
       "      <td>0.016360</td>\n",
       "      <td>10000000000000</td>\n",
       "      <td>16366460000000000</td>\n",
       "      <td>0</td>\n",
       "      <td>108816979</td>\n",
       "      <td>10</td>\n",
       "      <td>0x00002acaece3562ac4eb6885a41a37e357ef54d3cb2c...</td>\n",
       "      <td>0x285bc2970e54d53ea2fbe4b0e1bba2677a205742</td>\n",
       "      <td>WyJkb25hdGlvbnMiLCIweDAwMDAyYWNhZWNlMzU2MmFjNG...</td>\n",
       "      <td>0xcc6d33fe291d0fafb19cf8b833dc27d2f469fac52e3c...</td>\n",
       "      <td>0x5afc7720b161788f9d833555b7ebc3274fd98da1</td>\n",
       "      <td>0x8de918f0163b2021839a8d84954dd7e8e151326d</td>\n",
       "      <td>0x0000000000000000000000000000000000000000</td>\n",
       "      <td>0x379bced92b07c59756d02243b76ae8ebd5042b41ee90...</td>\n",
       "    </tr>\n",
       "    <tr>\n",
       "      <th>1</th>\n",
       "      <td>0.000052</td>\n",
       "      <td>67390000000000</td>\n",
       "      <td>51</td>\n",
       "      <td>17</td>\n",
       "      <td>50530864</td>\n",
       "      <td>137</td>\n",
       "      <td>0x00002e5ba02e1c78e782b69c7c8f8b1bab18e57f290c...</td>\n",
       "      <td>0xf49eb7f170f07b74d26195b1e67b5442ebcef5ec</td>\n",
       "      <td>WyJkb25hdGlvbnMiLCIweDAwMDAyZTViYTAyZTFjNzhlNz...</td>\n",
       "      <td>0xad02fe3124cef38f8c4fd5a44302713e49458d60a84d...</td>\n",
       "      <td>0x35292bbd442373046a6fb4bf7e2529fa9a8d5bb0</td>\n",
       "      <td>0xa1d52f9b5339792651861329a046dd912761e9a9</td>\n",
       "      <td>0x0000000000000000000000000000000000000000</td>\n",
       "      <td>0x4058469617e5123582f1e682f4b5a18337dc0fa41a15...</td>\n",
       "    </tr>\n",
       "    <tr>\n",
       "      <th>2</th>\n",
       "      <td>1.001680</td>\n",
       "      <td>610000000000000</td>\n",
       "      <td>1002163510000000000</td>\n",
       "      <td>2</td>\n",
       "      <td>108693843</td>\n",
       "      <td>10</td>\n",
       "      <td>0x0000590057ea1f42fe672e48933670847d644e095760...</td>\n",
       "      <td>0x5477d4639e998ddda7e97f44ad159f4b7f1e3fc7</td>\n",
       "      <td>WyJkb25hdGlvbnMiLCIweDAwMDA1OTAwNTdlYTFmNDJmZT...</td>\n",
       "      <td>0xbe519f8c8f7ff2acb359dd757c5d2bf25b05d9fd29b8...</td>\n",
       "      <td>0x3a5bd1e37b099ae3386d13947b6a90d97675e5e3</td>\n",
       "      <td>0x8de918f0163b2021839a8d84954dd7e8e151326d</td>\n",
       "      <td>0x0000000000000000000000000000000000000000</td>\n",
       "      <td>0xa036a626ec861c214a235f93f7fbb7d3f8b1b213df46...</td>\n",
       "    </tr>\n",
       "    <tr>\n",
       "      <th>3</th>\n",
       "      <td>1.033441</td>\n",
       "      <td>530000000000000</td>\n",
       "      <td>1034735860000000000</td>\n",
       "      <td>73</td>\n",
       "      <td>112385228</td>\n",
       "      <td>10</td>\n",
       "      <td>0x0000615cbcd17b135557d85ca64673bb4b711444e467...</td>\n",
       "      <td>0xf1ed61a80c7469273fea62564ec70a48e09fe170</td>\n",
       "      <td>WyJkb25hdGlvbnMiLCIweDAwMDA2MTVjYmNkMTdiMTM1NT...</td>\n",
       "      <td>0x29e1256cffdb522383bc943035ecfa518cc3051f2438...</td>\n",
       "      <td>0x3cc9f396430bc766ac8aa57fc28aebc5919a5d81</td>\n",
       "      <td>0x5eb890e41c8d2cff75ea942085e406bb90016561</td>\n",
       "      <td>0x0000000000000000000000000000000000000000</td>\n",
       "      <td>0x56c48d387bb3316ad15476d1712a202ad87e14c74d20...</td>\n",
       "    </tr>\n",
       "  </tbody>\n",
       "</table>\n",
       "</div>"
      ],
      "text/plain": [
       "   amountInUsd           amount amountInRoundMatchToken applicationId  \\\n",
       "0     0.016360   10000000000000       16366460000000000             0   \n",
       "1     0.000052   67390000000000                      51            17   \n",
       "2     1.001680  610000000000000     1002163510000000000             2   \n",
       "3     1.033441  530000000000000     1034735860000000000            73   \n",
       "\n",
       "  blockNumber  chainId                                                 id  \\\n",
       "0   108816979       10  0x00002acaece3562ac4eb6885a41a37e357ef54d3cb2c...   \n",
       "1    50530864      137  0x00002e5ba02e1c78e782b69c7c8f8b1bab18e57f290c...   \n",
       "2   108693843       10  0x0000590057ea1f42fe672e48933670847d644e095760...   \n",
       "3   112385228       10  0x0000615cbcd17b135557d85ca64673bb4b711444e467...   \n",
       "\n",
       "                                 donorAddress  \\\n",
       "0  0x285bc2970e54d53ea2fbe4b0e1bba2677a205742   \n",
       "1  0xf49eb7f170f07b74d26195b1e67b5442ebcef5ec   \n",
       "2  0x5477d4639e998ddda7e97f44ad159f4b7f1e3fc7   \n",
       "3  0xf1ed61a80c7469273fea62564ec70a48e09fe170   \n",
       "\n",
       "                                              nodeId  \\\n",
       "0  WyJkb25hdGlvbnMiLCIweDAwMDAyYWNhZWNlMzU2MmFjNG...   \n",
       "1  WyJkb25hdGlvbnMiLCIweDAwMDAyZTViYTAyZTFjNzhlNz...   \n",
       "2  WyJkb25hdGlvbnMiLCIweDAwMDA1OTAwNTdlYTFmNDJmZT...   \n",
       "3  WyJkb25hdGlvbnMiLCIweDAwMDA2MTVjYmNkMTdiMTM1NT...   \n",
       "\n",
       "                                           projectId  \\\n",
       "0  0xcc6d33fe291d0fafb19cf8b833dc27d2f469fac52e3c...   \n",
       "1  0xad02fe3124cef38f8c4fd5a44302713e49458d60a84d...   \n",
       "2  0xbe519f8c8f7ff2acb359dd757c5d2bf25b05d9fd29b8...   \n",
       "3  0x29e1256cffdb522383bc943035ecfa518cc3051f2438...   \n",
       "\n",
       "                             recipientAddress  \\\n",
       "0  0x5afc7720b161788f9d833555b7ebc3274fd98da1   \n",
       "1  0x35292bbd442373046a6fb4bf7e2529fa9a8d5bb0   \n",
       "2  0x3a5bd1e37b099ae3386d13947b6a90d97675e5e3   \n",
       "3  0x3cc9f396430bc766ac8aa57fc28aebc5919a5d81   \n",
       "\n",
       "                                      roundId  \\\n",
       "0  0x8de918f0163b2021839a8d84954dd7e8e151326d   \n",
       "1  0xa1d52f9b5339792651861329a046dd912761e9a9   \n",
       "2  0x8de918f0163b2021839a8d84954dd7e8e151326d   \n",
       "3  0x5eb890e41c8d2cff75ea942085e406bb90016561   \n",
       "\n",
       "                                 tokenAddress  \\\n",
       "0  0x0000000000000000000000000000000000000000   \n",
       "1  0x0000000000000000000000000000000000000000   \n",
       "2  0x0000000000000000000000000000000000000000   \n",
       "3  0x0000000000000000000000000000000000000000   \n",
       "\n",
       "                                     transactionHash  \n",
       "0  0x379bced92b07c59756d02243b76ae8ebd5042b41ee90...  \n",
       "1  0x4058469617e5123582f1e682f4b5a18337dc0fa41a15...  \n",
       "2  0xa036a626ec861c214a235f93f7fbb7d3f8b1b213df46...  \n",
       "3  0x56c48d387bb3316ad15476d1712a202ad87e14c74d20...  "
      ]
     },
     "metadata": {},
     "output_type": "display_data"
    },
    {
     "data": {
      "text/markdown": [
       "## [public_raw_allo_prices.parquet](#file-listing)"
      ],
      "text/plain": [
       "<IPython.core.display.Markdown object>"
      ]
     },
     "metadata": {},
     "output_type": "display_data"
    },
    {
     "data": {
      "text/markdown": [
       "blockNumber: string<br>chainId: int64<br>id: int64<br>nodeId: string<br>priceInUsd: double<br>timestamp: string<br>tokenAddress: string"
      ],
      "text/plain": [
       "<IPython.core.display.Markdown object>"
      ]
     },
     "metadata": {},
     "output_type": "display_data"
    },
    {
     "data": {
      "text/html": [
       "<div>\n",
       "<style scoped>\n",
       "    .dataframe tbody tr th:only-of-type {\n",
       "        vertical-align: middle;\n",
       "    }\n",
       "\n",
       "    .dataframe tbody tr th {\n",
       "        vertical-align: top;\n",
       "    }\n",
       "\n",
       "    .dataframe thead th {\n",
       "        text-align: right;\n",
       "    }\n",
       "</style>\n",
       "<table border=\"1\" class=\"dataframe\">\n",
       "  <thead>\n",
       "    <tr style=\"text-align: right;\">\n",
       "      <th></th>\n",
       "      <th>blockNumber</th>\n",
       "      <th>chainId</th>\n",
       "      <th>id</th>\n",
       "      <th>nodeId</th>\n",
       "      <th>priceInUsd</th>\n",
       "      <th>timestamp</th>\n",
       "      <th>tokenAddress</th>\n",
       "    </tr>\n",
       "  </thead>\n",
       "  <tbody>\n",
       "    <tr>\n",
       "      <th>0</th>\n",
       "      <td>2774000</td>\n",
       "      <td>534351</td>\n",
       "      <td>1</td>\n",
       "      <td>WyJwcmljZXMiLDFd</td>\n",
       "      <td>2403.8289</td>\n",
       "      <td>2024-01-10T13:01:24</td>\n",
       "      <td>0x0000000000000000000000000000000000000000</td>\n",
       "    </tr>\n",
       "    <tr>\n",
       "      <th>1</th>\n",
       "      <td>20912000</td>\n",
       "      <td>324</td>\n",
       "      <td>2</td>\n",
       "      <td>WyJwcmljZXMiLDJd</td>\n",
       "      <td>2346.6409</td>\n",
       "      <td>2023-12-07T18:27:50</td>\n",
       "      <td>0x0000000000000000000000000000000000000000</td>\n",
       "    </tr>\n",
       "    <tr>\n",
       "      <th>2</th>\n",
       "      <td>1336000</td>\n",
       "      <td>58008</td>\n",
       "      <td>3</td>\n",
       "      <td>WyJwcmljZXMiLDNd</td>\n",
       "      <td>1965.9740</td>\n",
       "      <td>2023-07-03T15:59:32</td>\n",
       "      <td>0x0000000000000000000000000000000000000000</td>\n",
       "    </tr>\n",
       "    <tr>\n",
       "      <th>3</th>\n",
       "      <td>2972000</td>\n",
       "      <td>534352</td>\n",
       "      <td>4</td>\n",
       "      <td>WyJwcmljZXMiLDRd</td>\n",
       "      <td>2291.2834</td>\n",
       "      <td>2024-02-01T18:58:51</td>\n",
       "      <td>0x0000000000000000000000000000000000000000</td>\n",
       "    </tr>\n",
       "  </tbody>\n",
       "</table>\n",
       "</div>"
      ],
      "text/plain": [
       "  blockNumber  chainId  id            nodeId  priceInUsd            timestamp  \\\n",
       "0     2774000   534351   1  WyJwcmljZXMiLDFd   2403.8289  2024-01-10T13:01:24   \n",
       "1    20912000      324   2  WyJwcmljZXMiLDJd   2346.6409  2023-12-07T18:27:50   \n",
       "2     1336000    58008   3  WyJwcmljZXMiLDNd   1965.9740  2023-07-03T15:59:32   \n",
       "3     2972000   534352   4  WyJwcmljZXMiLDRd   2291.2834  2024-02-01T18:58:51   \n",
       "\n",
       "                                 tokenAddress  \n",
       "0  0x0000000000000000000000000000000000000000  \n",
       "1  0x0000000000000000000000000000000000000000  \n",
       "2  0x0000000000000000000000000000000000000000  \n",
       "3  0x0000000000000000000000000000000000000000  "
      ]
     },
     "metadata": {},
     "output_type": "display_data"
    },
    {
     "data": {
      "text/markdown": [
       "## [public_raw_allo_projects.parquet](#file-listing)"
      ],
      "text/plain": [
       "<IPython.core.display.Markdown object>"
      ]
     },
     "metadata": {},
     "output_type": "display_data"
    },
    {
     "data": {
      "text/markdown": [
       "anchorAddress: string<br>chainId: int64<br>createdAtBlock: string<br>createdByAddress: string<br>id: string<br>metadata: string<br>metadataCid: string<br>name: string<br>nodeId: string<br>nonce: string<br>projectNumber: int64<br>projectType: string<br>registryAddress: string<br>tags: list<element: string><br>  child 0, element: string<br>updatedAtBlock: string"
      ],
      "text/plain": [
       "<IPython.core.display.Markdown object>"
      ]
     },
     "metadata": {},
     "output_type": "display_data"
    },
    {
     "data": {
      "text/html": [
       "<div>\n",
       "<style scoped>\n",
       "    .dataframe tbody tr th:only-of-type {\n",
       "        vertical-align: middle;\n",
       "    }\n",
       "\n",
       "    .dataframe tbody tr th {\n",
       "        vertical-align: top;\n",
       "    }\n",
       "\n",
       "    .dataframe thead th {\n",
       "        text-align: right;\n",
       "    }\n",
       "</style>\n",
       "<table border=\"1\" class=\"dataframe\">\n",
       "  <thead>\n",
       "    <tr style=\"text-align: right;\">\n",
       "      <th></th>\n",
       "      <th>anchorAddress</th>\n",
       "      <th>chainId</th>\n",
       "      <th>createdAtBlock</th>\n",
       "      <th>createdByAddress</th>\n",
       "      <th>id</th>\n",
       "      <th>metadata</th>\n",
       "      <th>metadataCid</th>\n",
       "      <th>name</th>\n",
       "      <th>nodeId</th>\n",
       "      <th>nonce</th>\n",
       "      <th>projectNumber</th>\n",
       "      <th>projectType</th>\n",
       "      <th>registryAddress</th>\n",
       "      <th>tags</th>\n",
       "      <th>updatedAtBlock</th>\n",
       "    </tr>\n",
       "  </thead>\n",
       "  <tbody>\n",
       "    <tr>\n",
       "      <th>0</th>\n",
       "      <td>None</td>\n",
       "      <td>424</td>\n",
       "      <td>1252131</td>\n",
       "      <td>0x0194325bf525be0d4fbb0856894ced74da3b8356</td>\n",
       "      <td>0x00065ad5b4ac5b42ac82c60ac9e939505f7996e95b61...</td>\n",
       "      <td>{\"title\": \"Ether Alpha\", \"logoImg\": \"bafkreibt...</td>\n",
       "      <td>bafkreic3wmwxh677nawk2ne563q7wx4vxif4xkoal65lo...</td>\n",
       "      <td></td>\n",
       "      <td>WyJwcm9qZWN0cyIsIjB4MDAwNjVhZDViNGFjNWI0MmFjOD...</td>\n",
       "      <td>None</td>\n",
       "      <td>46.0</td>\n",
       "      <td>CANONICAL</td>\n",
       "      <td>0xdf9bf58aa1a1b73f0e214d79c652a7dd37a6074e</td>\n",
       "      <td>[allo-v1]</td>\n",
       "      <td>1252131</td>\n",
       "    </tr>\n",
       "    <tr>\n",
       "      <th>1</th>\n",
       "      <td>None</td>\n",
       "      <td>10</td>\n",
       "      <td>112152576</td>\n",
       "      <td>0x7296191a226496f6afcf3490d2ec8e6cf8646c69</td>\n",
       "      <td>0x0017370bdfd13411f68f8f7bdac26edec1fadfa12cdc...</td>\n",
       "      <td>{\"title\": \"wosek's contributions\", \"logoImg\": ...</td>\n",
       "      <td>bafkreihg54kx2zz35y7gbtwsvwpgraohrsnh2mtf4drjh...</td>\n",
       "      <td></td>\n",
       "      <td>WyJwcm9qZWN0cyIsIjB4MDAxNzM3MGJkZmQxMzQxMWY2OG...</td>\n",
       "      <td>None</td>\n",
       "      <td>1520.0</td>\n",
       "      <td>CANONICAL</td>\n",
       "      <td>0x8e1bd5da87c14dd8e08f7ecc2abf9d1d558ea174</td>\n",
       "      <td>[allo-v1]</td>\n",
       "      <td>112152576</td>\n",
       "    </tr>\n",
       "    <tr>\n",
       "      <th>2</th>\n",
       "      <td>None</td>\n",
       "      <td>424</td>\n",
       "      <td>5715877</td>\n",
       "      <td>0x9c162e77b67ed76164b486e2305000c10e3b9dfe</td>\n",
       "      <td>0x0024e32c272cb1a514dd4a83ce642544d5f73caa</td>\n",
       "      <td>{\"name\": \"DEVELOPMENT AND OPERATION OF ARTIFIC...</td>\n",
       "      <td>bafkreicndz7x2syry6qp7ccpqshddgqmyiotlpa6lnmxd...</td>\n",
       "      <td></td>\n",
       "      <td>WyJwcm9qZWN0cyIsIjB4MDAyNGUzMmMyNzJjYjFhNTE0ZG...</td>\n",
       "      <td>None</td>\n",
       "      <td>NaN</td>\n",
       "      <td>CANONICAL</td>\n",
       "      <td>0x0000000000000000000000000000000000000000</td>\n",
       "      <td>[allo-v1, program]</td>\n",
       "      <td>5715877</td>\n",
       "    </tr>\n",
       "    <tr>\n",
       "      <th>3</th>\n",
       "      <td>0xc2ba001c5e3dab03b5de1dda3dd3f64216d5c1a1</td>\n",
       "      <td>5</td>\n",
       "      <td>10242766</td>\n",
       "      <td>0xe849b2a694184b8739a04c915518330757cdb18b</td>\n",
       "      <td>0x00490de473481e6883b7a13f582ee8e927dce1bafa92...</td>\n",
       "      <td>{\"name\": \"Random Round\", \"description\": \"Lorem...</td>\n",
       "      <td>bafybeia4khbew3r2mkflyn7nzlvfzcb3qpfeftz5ivpzf...</td>\n",
       "      <td>Allo Workshop</td>\n",
       "      <td>WyJwcm9qZWN0cyIsIjB4MDA0OTBkZTQ3MzQ4MWU2ODgzYj...</td>\n",
       "      <td>6422</td>\n",
       "      <td>NaN</td>\n",
       "      <td>CANONICAL</td>\n",
       "      <td>0x4aacca72145e1df2aec137e1f3c5e3d75db8b5f3</td>\n",
       "      <td>[allo-v2]</td>\n",
       "      <td>10242766</td>\n",
       "    </tr>\n",
       "  </tbody>\n",
       "</table>\n",
       "</div>"
      ],
      "text/plain": [
       "                                anchorAddress  chainId createdAtBlock  \\\n",
       "0                                        None      424        1252131   \n",
       "1                                        None       10      112152576   \n",
       "2                                        None      424        5715877   \n",
       "3  0xc2ba001c5e3dab03b5de1dda3dd3f64216d5c1a1        5       10242766   \n",
       "\n",
       "                             createdByAddress  \\\n",
       "0  0x0194325bf525be0d4fbb0856894ced74da3b8356   \n",
       "1  0x7296191a226496f6afcf3490d2ec8e6cf8646c69   \n",
       "2  0x9c162e77b67ed76164b486e2305000c10e3b9dfe   \n",
       "3  0xe849b2a694184b8739a04c915518330757cdb18b   \n",
       "\n",
       "                                                  id  \\\n",
       "0  0x00065ad5b4ac5b42ac82c60ac9e939505f7996e95b61...   \n",
       "1  0x0017370bdfd13411f68f8f7bdac26edec1fadfa12cdc...   \n",
       "2         0x0024e32c272cb1a514dd4a83ce642544d5f73caa   \n",
       "3  0x00490de473481e6883b7a13f582ee8e927dce1bafa92...   \n",
       "\n",
       "                                            metadata  \\\n",
       "0  {\"title\": \"Ether Alpha\", \"logoImg\": \"bafkreibt...   \n",
       "1  {\"title\": \"wosek's contributions\", \"logoImg\": ...   \n",
       "2  {\"name\": \"DEVELOPMENT AND OPERATION OF ARTIFIC...   \n",
       "3  {\"name\": \"Random Round\", \"description\": \"Lorem...   \n",
       "\n",
       "                                         metadataCid           name  \\\n",
       "0  bafkreic3wmwxh677nawk2ne563q7wx4vxif4xkoal65lo...                  \n",
       "1  bafkreihg54kx2zz35y7gbtwsvwpgraohrsnh2mtf4drjh...                  \n",
       "2  bafkreicndz7x2syry6qp7ccpqshddgqmyiotlpa6lnmxd...                  \n",
       "3  bafybeia4khbew3r2mkflyn7nzlvfzcb3qpfeftz5ivpzf...  Allo Workshop   \n",
       "\n",
       "                                              nodeId nonce  projectNumber  \\\n",
       "0  WyJwcm9qZWN0cyIsIjB4MDAwNjVhZDViNGFjNWI0MmFjOD...  None           46.0   \n",
       "1  WyJwcm9qZWN0cyIsIjB4MDAxNzM3MGJkZmQxMzQxMWY2OG...  None         1520.0   \n",
       "2  WyJwcm9qZWN0cyIsIjB4MDAyNGUzMmMyNzJjYjFhNTE0ZG...  None            NaN   \n",
       "3  WyJwcm9qZWN0cyIsIjB4MDA0OTBkZTQ3MzQ4MWU2ODgzYj...  6422            NaN   \n",
       "\n",
       "  projectType                             registryAddress                tags  \\\n",
       "0   CANONICAL  0xdf9bf58aa1a1b73f0e214d79c652a7dd37a6074e           [allo-v1]   \n",
       "1   CANONICAL  0x8e1bd5da87c14dd8e08f7ecc2abf9d1d558ea174           [allo-v1]   \n",
       "2   CANONICAL  0x0000000000000000000000000000000000000000  [allo-v1, program]   \n",
       "3   CANONICAL  0x4aacca72145e1df2aec137e1f3c5e3d75db8b5f3           [allo-v2]   \n",
       "\n",
       "  updatedAtBlock  \n",
       "0        1252131  \n",
       "1      112152576  \n",
       "2        5715877  \n",
       "3       10242766  "
      ]
     },
     "metadata": {},
     "output_type": "display_data"
    },
    {
     "data": {
      "text/markdown": [
       "## [public_raw_allo_round_roles.parquet](#file-listing)"
      ],
      "text/plain": [
       "<IPython.core.display.Markdown object>"
      ]
     },
     "metadata": {},
     "output_type": "display_data"
    },
    {
     "data": {
      "text/markdown": [
       "address: string<br>chainId: int64<br>createdAtBlock: string<br>nodeId: string<br>role: string<br>roundId: string"
      ],
      "text/plain": [
       "<IPython.core.display.Markdown object>"
      ]
     },
     "metadata": {},
     "output_type": "display_data"
    },
    {
     "data": {
      "text/html": [
       "<div>\n",
       "<style scoped>\n",
       "    .dataframe tbody tr th:only-of-type {\n",
       "        vertical-align: middle;\n",
       "    }\n",
       "\n",
       "    .dataframe tbody tr th {\n",
       "        vertical-align: top;\n",
       "    }\n",
       "\n",
       "    .dataframe thead th {\n",
       "        text-align: right;\n",
       "    }\n",
       "</style>\n",
       "<table border=\"1\" class=\"dataframe\">\n",
       "  <thead>\n",
       "    <tr style=\"text-align: right;\">\n",
       "      <th></th>\n",
       "      <th>address</th>\n",
       "      <th>chainId</th>\n",
       "      <th>createdAtBlock</th>\n",
       "      <th>nodeId</th>\n",
       "      <th>role</th>\n",
       "      <th>roundId</th>\n",
       "    </tr>\n",
       "  </thead>\n",
       "  <tbody>\n",
       "    <tr>\n",
       "      <th>0</th>\n",
       "      <td>0x704f52ea3c4d8095e348027fdc0a4cfdc19d0008</td>\n",
       "      <td>1</td>\n",
       "      <td>17769949</td>\n",
       "      <td>WyJyb3VuZF9yb2xlcyIsMSwiMHgwNWRmNzZiYzQ0NmNlZT...</td>\n",
       "      <td>ADMIN</td>\n",
       "      <td>0x05df76bc446cee7ad536e2d23c128c9c8909cf7b</td>\n",
       "    </tr>\n",
       "    <tr>\n",
       "      <th>1</th>\n",
       "      <td>0x704f52ea3c4d8095e348027fdc0a4cfdc19d0008</td>\n",
       "      <td>1</td>\n",
       "      <td>17769949</td>\n",
       "      <td>WyJyb3VuZF9yb2xlcyIsMSwiMHgwNWRmNzZiYzQ0NmNlZT...</td>\n",
       "      <td>MANAGER</td>\n",
       "      <td>0x05df76bc446cee7ad536e2d23c128c9c8909cf7b</td>\n",
       "    </tr>\n",
       "    <tr>\n",
       "      <th>2</th>\n",
       "      <td>0x2a79b338932afb7c95b2f96fb925647190cd2b45</td>\n",
       "      <td>1</td>\n",
       "      <td>18355638</td>\n",
       "      <td>WyJyb3VuZF9yb2xlcyIsMSwiMHgwNzNjNDVkMjExZDUxOD...</td>\n",
       "      <td>ADMIN</td>\n",
       "      <td>0x073c45d211d5180d94eaf1669b7f79f85b753c20</td>\n",
       "    </tr>\n",
       "    <tr>\n",
       "      <th>3</th>\n",
       "      <td>0x2a79b338932afb7c95b2f96fb925647190cd2b45</td>\n",
       "      <td>1</td>\n",
       "      <td>18355638</td>\n",
       "      <td>WyJyb3VuZF9yb2xlcyIsMSwiMHgwNzNjNDVkMjExZDUxOD...</td>\n",
       "      <td>MANAGER</td>\n",
       "      <td>0x073c45d211d5180d94eaf1669b7f79f85b753c20</td>\n",
       "    </tr>\n",
       "  </tbody>\n",
       "</table>\n",
       "</div>"
      ],
      "text/plain": [
       "                                      address  chainId createdAtBlock  \\\n",
       "0  0x704f52ea3c4d8095e348027fdc0a4cfdc19d0008        1       17769949   \n",
       "1  0x704f52ea3c4d8095e348027fdc0a4cfdc19d0008        1       17769949   \n",
       "2  0x2a79b338932afb7c95b2f96fb925647190cd2b45        1       18355638   \n",
       "3  0x2a79b338932afb7c95b2f96fb925647190cd2b45        1       18355638   \n",
       "\n",
       "                                              nodeId     role  \\\n",
       "0  WyJyb3VuZF9yb2xlcyIsMSwiMHgwNWRmNzZiYzQ0NmNlZT...    ADMIN   \n",
       "1  WyJyb3VuZF9yb2xlcyIsMSwiMHgwNWRmNzZiYzQ0NmNlZT...  MANAGER   \n",
       "2  WyJyb3VuZF9yb2xlcyIsMSwiMHgwNzNjNDVkMjExZDUxOD...    ADMIN   \n",
       "3  WyJyb3VuZF9yb2xlcyIsMSwiMHgwNzNjNDVkMjExZDUxOD...  MANAGER   \n",
       "\n",
       "                                      roundId  \n",
       "0  0x05df76bc446cee7ad536e2d23c128c9c8909cf7b  \n",
       "1  0x05df76bc446cee7ad536e2d23c128c9c8909cf7b  \n",
       "2  0x073c45d211d5180d94eaf1669b7f79f85b753c20  \n",
       "3  0x073c45d211d5180d94eaf1669b7f79f85b753c20  "
      ]
     },
     "metadata": {},
     "output_type": "display_data"
    },
    {
     "data": {
      "text/markdown": [
       "## [public_raw_allo_rounds.parquet](#file-listing)"
      ],
      "text/plain": [
       "<IPython.core.display.Markdown object>"
      ]
     },
     "metadata": {},
     "output_type": "display_data"
    },
    {
     "data": {
      "text/markdown": [
       "adminRole: string<br>applicationMetadata: string<br>applicationMetadataCid: string<br>applicationsEndTime: string<br>applicationsStartTime: string<br>chainId: int64<br>createdAtBlock: string<br>createdByAddress: string<br>donationsEndTime: string<br>donationsStartTime: string<br>id: string<br>isReadyForPayout: bool<br>managerRole: string<br>matchAmount: string<br>matchAmountInUsd: double<br>matchTokenAddress: string<br>nodeId: string<br>projectId: string<br>roundMetadata: string<br>roundMetadataCid: string<br>strategyAddress: string<br>strategyId: string<br>strategyName: string<br>tags: string<br>totalAmountDonatedInUsd: double<br>totalDonationsCount: int64<br>uniqueDonorsCount: int64<br>updatedAtBlock: string"
      ],
      "text/plain": [
       "<IPython.core.display.Markdown object>"
      ]
     },
     "metadata": {},
     "output_type": "display_data"
    },
    {
     "data": {
      "text/html": [
       "<div>\n",
       "<style scoped>\n",
       "    .dataframe tbody tr th:only-of-type {\n",
       "        vertical-align: middle;\n",
       "    }\n",
       "\n",
       "    .dataframe tbody tr th {\n",
       "        vertical-align: top;\n",
       "    }\n",
       "\n",
       "    .dataframe thead th {\n",
       "        text-align: right;\n",
       "    }\n",
       "</style>\n",
       "<table border=\"1\" class=\"dataframe\">\n",
       "  <thead>\n",
       "    <tr style=\"text-align: right;\">\n",
       "      <th></th>\n",
       "      <th>adminRole</th>\n",
       "      <th>applicationMetadata</th>\n",
       "      <th>applicationMetadataCid</th>\n",
       "      <th>applicationsEndTime</th>\n",
       "      <th>applicationsStartTime</th>\n",
       "      <th>chainId</th>\n",
       "      <th>createdAtBlock</th>\n",
       "      <th>createdByAddress</th>\n",
       "      <th>donationsEndTime</th>\n",
       "      <th>donationsStartTime</th>\n",
       "      <th>...</th>\n",
       "      <th>roundMetadata</th>\n",
       "      <th>roundMetadataCid</th>\n",
       "      <th>strategyAddress</th>\n",
       "      <th>strategyId</th>\n",
       "      <th>strategyName</th>\n",
       "      <th>tags</th>\n",
       "      <th>totalAmountDonatedInUsd</th>\n",
       "      <th>totalDonationsCount</th>\n",
       "      <th>uniqueDonorsCount</th>\n",
       "      <th>updatedAtBlock</th>\n",
       "    </tr>\n",
       "  </thead>\n",
       "  <tbody>\n",
       "    <tr>\n",
       "      <th>0</th>\n",
       "      <td></td>\n",
       "      <td>{\"version\": \"2.0.0\", \"lastUpdatedOn\": 17078383...</td>\n",
       "      <td>bafkreihtjfexxqwu7mmwboglnhzc4uxldiyjvh4u33xq3...</td>\n",
       "      <td>2024-03-24T23:58:00</td>\n",
       "      <td>2024-02-14T15:00:00</td>\n",
       "      <td>42161</td>\n",
       "      <td>180370254</td>\n",
       "      <td>0xaa3600788b72863ff51c8f0db5f10bb65fbfeab4</td>\n",
       "      <td>2024-03-24T23:58:00</td>\n",
       "      <td>2024-03-11T00:00:00</td>\n",
       "      <td>...</td>\n",
       "      <td>{\"name\": \"Unlock Protocol x Arbitrum : RetroQF...</td>\n",
       "      <td>bafkreih2i46efdxrmsgao6jucpv5ag6fikx45tt5g5vvl...</td>\n",
       "      <td>0x4e1fa15bcc16af11853bc07da12c7dd41710e6d3</td>\n",
       "      <td></td>\n",
       "      <td>allov1.QF</td>\n",
       "      <td>[\"allo-v1\"]</td>\n",
       "      <td>0.0000</td>\n",
       "      <td>0</td>\n",
       "      <td>0</td>\n",
       "      <td>180370254</td>\n",
       "    </tr>\n",
       "    <tr>\n",
       "      <th>1</th>\n",
       "      <td></td>\n",
       "      <td>{\"version\": \"2.0.0\", \"lastUpdatedOn\": 16978393...</td>\n",
       "      <td>bafkreiejeeh2ummqbbg5u674fchzk57kplonzdeaebe2l...</td>\n",
       "      <td>None</td>\n",
       "      <td>2023-11-01T00:00:00</td>\n",
       "      <td>10</td>\n",
       "      <td>111120277</td>\n",
       "      <td>0x43804905c02f551ec5420a88005bc66a1baf3ab0</td>\n",
       "      <td>None</td>\n",
       "      <td>2023-11-01T00:00:00</td>\n",
       "      <td>...</td>\n",
       "      <td>{\"name\": \"Grants Round\", \"support\": {\"info\": \"...</td>\n",
       "      <td>bafkreieflboucjx2eqlimnij2sfuqftq6bzil5x7qwlwy...</td>\n",
       "      <td>0x05187c997121c05f407ad9e24ce36be54158db10</td>\n",
       "      <td></td>\n",
       "      <td>allov1.Direct</td>\n",
       "      <td>[\"allo-v1\"]</td>\n",
       "      <td>0.0000</td>\n",
       "      <td>0</td>\n",
       "      <td>0</td>\n",
       "      <td>111120277</td>\n",
       "    </tr>\n",
       "    <tr>\n",
       "      <th>2</th>\n",
       "      <td></td>\n",
       "      <td>{\"version\": \"2.0.0\", \"lastUpdatedOn\": 16956589...</td>\n",
       "      <td>bafkreig7y44xsfckujpmr5foqncdy54kguonwinmaep6l...</td>\n",
       "      <td>None</td>\n",
       "      <td>2023-09-26T00:00:00</td>\n",
       "      <td>10</td>\n",
       "      <td>110030087</td>\n",
       "      <td>0x58338e95caef17861916ef10dad5fafe20421005</td>\n",
       "      <td>None</td>\n",
       "      <td>2023-09-26T00:00:00</td>\n",
       "      <td>...</td>\n",
       "      <td>{\"name\": \"Espresso test\", \"support\": {\"info\": ...</td>\n",
       "      <td>bafkreidayu7lllpeonacatdjkkjkqrbrhit4vjqxphku5...</td>\n",
       "      <td>0xf7d21a59709ec1328b833d35d4eea9bbe529c1c0</td>\n",
       "      <td></td>\n",
       "      <td>allov1.Direct</td>\n",
       "      <td>[\"allo-v1\"]</td>\n",
       "      <td>0.0000</td>\n",
       "      <td>0</td>\n",
       "      <td>0</td>\n",
       "      <td>110030087</td>\n",
       "    </tr>\n",
       "    <tr>\n",
       "      <th>3</th>\n",
       "      <td></td>\n",
       "      <td>{\"version\": \"2.0.0\", \"lastUpdatedOn\": 17070481...</td>\n",
       "      <td>bafkreidul3bgy2ihdrmqmrxegyazxe5fg4equzav34jnm...</td>\n",
       "      <td>2024-05-31T00:00:00</td>\n",
       "      <td>2024-02-04T13:00:00</td>\n",
       "      <td>42161</td>\n",
       "      <td>177348473</td>\n",
       "      <td>0x7380a42137d16a0e7684578d8b3d32e1fbd021b5</td>\n",
       "      <td>2024-05-31T00:00:00</td>\n",
       "      <td>2024-02-05T00:00:00</td>\n",
       "      <td>...</td>\n",
       "      <td>{\"name\": \"\\ud83c\\udf10\\u267b\\ufe0f EcoSynthesi...</td>\n",
       "      <td>bafkreibg4wwtxjpuz3uf2mmq3nokx22orxbr3bagoboa7...</td>\n",
       "      <td>0xdfcb8e177dd457a93b83a09aee5140cc1175ba5d</td>\n",
       "      <td></td>\n",
       "      <td>allov1.QF</td>\n",
       "      <td>[\"allo-v1\"]</td>\n",
       "      <td>160.9271</td>\n",
       "      <td>124</td>\n",
       "      <td>37</td>\n",
       "      <td>177348473</td>\n",
       "    </tr>\n",
       "  </tbody>\n",
       "</table>\n",
       "<p>4 rows × 28 columns</p>\n",
       "</div>"
      ],
      "text/plain": [
       "  adminRole                                applicationMetadata  \\\n",
       "0            {\"version\": \"2.0.0\", \"lastUpdatedOn\": 17078383...   \n",
       "1            {\"version\": \"2.0.0\", \"lastUpdatedOn\": 16978393...   \n",
       "2            {\"version\": \"2.0.0\", \"lastUpdatedOn\": 16956589...   \n",
       "3            {\"version\": \"2.0.0\", \"lastUpdatedOn\": 17070481...   \n",
       "\n",
       "                              applicationMetadataCid  applicationsEndTime  \\\n",
       "0  bafkreihtjfexxqwu7mmwboglnhzc4uxldiyjvh4u33xq3...  2024-03-24T23:58:00   \n",
       "1  bafkreiejeeh2ummqbbg5u674fchzk57kplonzdeaebe2l...                 None   \n",
       "2  bafkreig7y44xsfckujpmr5foqncdy54kguonwinmaep6l...                 None   \n",
       "3  bafkreidul3bgy2ihdrmqmrxegyazxe5fg4equzav34jnm...  2024-05-31T00:00:00   \n",
       "\n",
       "  applicationsStartTime  chainId createdAtBlock  \\\n",
       "0   2024-02-14T15:00:00    42161      180370254   \n",
       "1   2023-11-01T00:00:00       10      111120277   \n",
       "2   2023-09-26T00:00:00       10      110030087   \n",
       "3   2024-02-04T13:00:00    42161      177348473   \n",
       "\n",
       "                             createdByAddress     donationsEndTime  \\\n",
       "0  0xaa3600788b72863ff51c8f0db5f10bb65fbfeab4  2024-03-24T23:58:00   \n",
       "1  0x43804905c02f551ec5420a88005bc66a1baf3ab0                 None   \n",
       "2  0x58338e95caef17861916ef10dad5fafe20421005                 None   \n",
       "3  0x7380a42137d16a0e7684578d8b3d32e1fbd021b5  2024-05-31T00:00:00   \n",
       "\n",
       "    donationsStartTime  ...  \\\n",
       "0  2024-03-11T00:00:00  ...   \n",
       "1  2023-11-01T00:00:00  ...   \n",
       "2  2023-09-26T00:00:00  ...   \n",
       "3  2024-02-05T00:00:00  ...   \n",
       "\n",
       "                                       roundMetadata  \\\n",
       "0  {\"name\": \"Unlock Protocol x Arbitrum : RetroQF...   \n",
       "1  {\"name\": \"Grants Round\", \"support\": {\"info\": \"...   \n",
       "2  {\"name\": \"Espresso test\", \"support\": {\"info\": ...   \n",
       "3  {\"name\": \"\\ud83c\\udf10\\u267b\\ufe0f EcoSynthesi...   \n",
       "\n",
       "                                    roundMetadataCid  \\\n",
       "0  bafkreih2i46efdxrmsgao6jucpv5ag6fikx45tt5g5vvl...   \n",
       "1  bafkreieflboucjx2eqlimnij2sfuqftq6bzil5x7qwlwy...   \n",
       "2  bafkreidayu7lllpeonacatdjkkjkqrbrhit4vjqxphku5...   \n",
       "3  bafkreibg4wwtxjpuz3uf2mmq3nokx22orxbr3bagoboa7...   \n",
       "\n",
       "                              strategyAddress strategyId   strategyName  \\\n",
       "0  0x4e1fa15bcc16af11853bc07da12c7dd41710e6d3                 allov1.QF   \n",
       "1  0x05187c997121c05f407ad9e24ce36be54158db10             allov1.Direct   \n",
       "2  0xf7d21a59709ec1328b833d35d4eea9bbe529c1c0             allov1.Direct   \n",
       "3  0xdfcb8e177dd457a93b83a09aee5140cc1175ba5d                 allov1.QF   \n",
       "\n",
       "          tags totalAmountDonatedInUsd totalDonationsCount uniqueDonorsCount  \\\n",
       "0  [\"allo-v1\"]                  0.0000                   0                 0   \n",
       "1  [\"allo-v1\"]                  0.0000                   0                 0   \n",
       "2  [\"allo-v1\"]                  0.0000                   0                 0   \n",
       "3  [\"allo-v1\"]                160.9271                 124                37   \n",
       "\n",
       "  updatedAtBlock  \n",
       "0      180370254  \n",
       "1      111120277  \n",
       "2      110030087  \n",
       "3      177348473  \n",
       "\n",
       "[4 rows x 28 columns]"
      ]
     },
     "metadata": {},
     "output_type": "display_data"
    },
    {
     "data": {
      "text/markdown": [
       "## [public_raw_allo_subscriptions.parquet](#file-listing)"
      ],
      "text/plain": [
       "<IPython.core.display.Markdown object>"
      ]
     },
     "metadata": {},
     "output_type": "display_data"
    },
    {
     "data": {
      "text/markdown": [
       "chainId: int64<br>contractAddress: string<br>contractName: string<br>createdAt: string<br>fromBlock: string<br>id: string<br>indexedToBlock: string<br>indexedToLogIndex: int64<br>nodeId: string<br>toBlock: string<br>updatedAt: string"
      ],
      "text/plain": [
       "<IPython.core.display.Markdown object>"
      ]
     },
     "metadata": {},
     "output_type": "display_data"
    },
    {
     "data": {
      "text/html": [
       "<div>\n",
       "<style scoped>\n",
       "    .dataframe tbody tr th:only-of-type {\n",
       "        vertical-align: middle;\n",
       "    }\n",
       "\n",
       "    .dataframe tbody tr th {\n",
       "        vertical-align: top;\n",
       "    }\n",
       "\n",
       "    .dataframe thead th {\n",
       "        text-align: right;\n",
       "    }\n",
       "</style>\n",
       "<table border=\"1\" class=\"dataframe\">\n",
       "  <thead>\n",
       "    <tr style=\"text-align: right;\">\n",
       "      <th></th>\n",
       "      <th>chainId</th>\n",
       "      <th>contractAddress</th>\n",
       "      <th>contractName</th>\n",
       "      <th>createdAt</th>\n",
       "      <th>fromBlock</th>\n",
       "      <th>id</th>\n",
       "      <th>indexedToBlock</th>\n",
       "      <th>indexedToLogIndex</th>\n",
       "      <th>nodeId</th>\n",
       "      <th>toBlock</th>\n",
       "      <th>updatedAt</th>\n",
       "    </tr>\n",
       "  </thead>\n",
       "  <tbody>\n",
       "    <tr>\n",
       "      <th>0</th>\n",
       "      <td>10</td>\n",
       "      <td>0x005De9495f4e87682647d16DB18DeAcdC8b525EF</td>\n",
       "      <td>AlloV1/ProgramImplementation/V1</td>\n",
       "      <td>2024-02-20T13:57:50.236</td>\n",
       "      <td>110696736</td>\n",
       "      <td>10-0x005De9495f4e87682647d16DB18DeAcdC8b525EF</td>\n",
       "      <td>116454443</td>\n",
       "      <td>0</td>\n",
       "      <td>WyJzdWJzY3JpcHRpb25zIiwiMTAtMHgwMDVEZTk0OTVmNG...</td>\n",
       "      <td>latest</td>\n",
       "      <td>2024-02-21T09:27:45.742544</td>\n",
       "    </tr>\n",
       "    <tr>\n",
       "      <th>1</th>\n",
       "      <td>10</td>\n",
       "      <td>0x00E1E1D5769C18Fc07921c2C06D07cCF084fBA3f</td>\n",
       "      <td>AlloV1/QuadraticFundingVotingStrategyImplement...</td>\n",
       "      <td>2024-02-20T14:15:26.067</td>\n",
       "      <td>115558292</td>\n",
       "      <td>10-0x00E1E1D5769C18Fc07921c2C06D07cCF084fBA3f</td>\n",
       "      <td>116454443</td>\n",
       "      <td>0</td>\n",
       "      <td>WyJzdWJzY3JpcHRpb25zIiwiMTAtMHgwMEUxRTFENTc2OU...</td>\n",
       "      <td>latest</td>\n",
       "      <td>2024-02-21T09:27:45.767389</td>\n",
       "    </tr>\n",
       "    <tr>\n",
       "      <th>2</th>\n",
       "      <td>10</td>\n",
       "      <td>0x01Fb03887570e18eb88507ea7A5E73ecA169a516</td>\n",
       "      <td>AlloV1/ProgramImplementation/V1</td>\n",
       "      <td>2024-02-20T13:54:54.996</td>\n",
       "      <td>109263546</td>\n",
       "      <td>10-0x01Fb03887570e18eb88507ea7A5E73ecA169a516</td>\n",
       "      <td>116454443</td>\n",
       "      <td>0</td>\n",
       "      <td>WyJzdWJzY3JpcHRpb25zIiwiMTAtMHgwMUZiMDM4ODc1Nz...</td>\n",
       "      <td>latest</td>\n",
       "      <td>2024-02-21T09:27:45.825769</td>\n",
       "    </tr>\n",
       "    <tr>\n",
       "      <th>3</th>\n",
       "      <td>10</td>\n",
       "      <td>0x0365712D69C2dFdd1a9FdF25972A3A1Dc4fB5b1B</td>\n",
       "      <td>AlloV1/ProgramImplementation/V1</td>\n",
       "      <td>2024-02-20T13:33:47.178</td>\n",
       "      <td>97309717</td>\n",
       "      <td>10-0x0365712D69C2dFdd1a9FdF25972A3A1Dc4fB5b1B</td>\n",
       "      <td>116454443</td>\n",
       "      <td>0</td>\n",
       "      <td>WyJzdWJzY3JpcHRpb25zIiwiMTAtMHgwMzY1NzEyRDY5Qz...</td>\n",
       "      <td>latest</td>\n",
       "      <td>2024-02-21T09:27:45.558181</td>\n",
       "    </tr>\n",
       "  </tbody>\n",
       "</table>\n",
       "</div>"
      ],
      "text/plain": [
       "   chainId                             contractAddress  \\\n",
       "0       10  0x005De9495f4e87682647d16DB18DeAcdC8b525EF   \n",
       "1       10  0x00E1E1D5769C18Fc07921c2C06D07cCF084fBA3f   \n",
       "2       10  0x01Fb03887570e18eb88507ea7A5E73ecA169a516   \n",
       "3       10  0x0365712D69C2dFdd1a9FdF25972A3A1Dc4fB5b1B   \n",
       "\n",
       "                                        contractName                createdAt  \\\n",
       "0                    AlloV1/ProgramImplementation/V1  2024-02-20T13:57:50.236   \n",
       "1  AlloV1/QuadraticFundingVotingStrategyImplement...  2024-02-20T14:15:26.067   \n",
       "2                    AlloV1/ProgramImplementation/V1  2024-02-20T13:54:54.996   \n",
       "3                    AlloV1/ProgramImplementation/V1  2024-02-20T13:33:47.178   \n",
       "\n",
       "   fromBlock                                             id indexedToBlock  \\\n",
       "0  110696736  10-0x005De9495f4e87682647d16DB18DeAcdC8b525EF      116454443   \n",
       "1  115558292  10-0x00E1E1D5769C18Fc07921c2C06D07cCF084fBA3f      116454443   \n",
       "2  109263546  10-0x01Fb03887570e18eb88507ea7A5E73ecA169a516      116454443   \n",
       "3   97309717  10-0x0365712D69C2dFdd1a9FdF25972A3A1Dc4fB5b1B      116454443   \n",
       "\n",
       "   indexedToLogIndex                                             nodeId  \\\n",
       "0                  0  WyJzdWJzY3JpcHRpb25zIiwiMTAtMHgwMDVEZTk0OTVmNG...   \n",
       "1                  0  WyJzdWJzY3JpcHRpb25zIiwiMTAtMHgwMEUxRTFENTc2OU...   \n",
       "2                  0  WyJzdWJzY3JpcHRpb25zIiwiMTAtMHgwMUZiMDM4ODc1Nz...   \n",
       "3                  0  WyJzdWJzY3JpcHRpb25zIiwiMTAtMHgwMzY1NzEyRDY5Qz...   \n",
       "\n",
       "  toBlock                   updatedAt  \n",
       "0  latest  2024-02-21T09:27:45.742544  \n",
       "1  latest  2024-02-21T09:27:45.767389  \n",
       "2  latest  2024-02-21T09:27:45.825769  \n",
       "3  latest  2024-02-21T09:27:45.558181  "
      ]
     },
     "metadata": {},
     "output_type": "display_data"
    },
    {
     "data": {
      "text/markdown": [
       "## [public_raw_chain_metadata.parquet](#file-listing)"
      ],
      "text/plain": [
       "<IPython.core.display.Markdown object>"
      ]
     },
     "metadata": {},
     "output_type": "display_data"
    },
    {
     "data": {
      "text/markdown": [
       "name: int32<br>chain: int32<br>icon: int32<br>rpc: int32<br>features: int32<br>faucets: int32<br>nativeCurrency: int32<br>infoURL: int32<br>shortName: int32<br>chainId: int32<br>networkId: int64<br>slip44: int64<br>ens: int32<br>explorers: int32<br>title: int32<br>status: int32<br>redFlags: int32<br>parent: int32"
      ],
      "text/plain": [
       "<IPython.core.display.Markdown object>"
      ]
     },
     "metadata": {},
     "output_type": "display_data"
    },
    {
     "data": {
      "text/html": [
       "<div>\n",
       "<style scoped>\n",
       "    .dataframe tbody tr th:only-of-type {\n",
       "        vertical-align: middle;\n",
       "    }\n",
       "\n",
       "    .dataframe tbody tr th {\n",
       "        vertical-align: top;\n",
       "    }\n",
       "\n",
       "    .dataframe thead th {\n",
       "        text-align: right;\n",
       "    }\n",
       "</style>\n",
       "<table border=\"1\" class=\"dataframe\">\n",
       "  <thead>\n",
       "    <tr style=\"text-align: right;\">\n",
       "      <th></th>\n",
       "      <th>name</th>\n",
       "      <th>chain</th>\n",
       "      <th>icon</th>\n",
       "      <th>rpc</th>\n",
       "      <th>features</th>\n",
       "      <th>faucets</th>\n",
       "      <th>nativeCurrency</th>\n",
       "      <th>infoURL</th>\n",
       "      <th>shortName</th>\n",
       "      <th>chainId</th>\n",
       "      <th>networkId</th>\n",
       "      <th>slip44</th>\n",
       "      <th>ens</th>\n",
       "      <th>explorers</th>\n",
       "      <th>title</th>\n",
       "      <th>status</th>\n",
       "      <th>redFlags</th>\n",
       "      <th>parent</th>\n",
       "    </tr>\n",
       "  </thead>\n",
       "  <tbody>\n",
       "  </tbody>\n",
       "</table>\n",
       "</div>"
      ],
      "text/plain": [
       "Empty DataFrame\n",
       "Columns: [name, chain, icon, rpc, features, faucets, nativeCurrency, infoURL, shortName, chainId, networkId, slip44, ens, explorers, title, status, redFlags, parent]\n",
       "Index: []"
      ]
     },
     "metadata": {},
     "output_type": "display_data"
    },
    {
     "data": {
      "text/markdown": [
       "## [public_raw_discourse_categories.parquet](#file-listing)"
      ],
      "text/plain": [
       "<IPython.core.display.Markdown object>"
      ]
     },
     "metadata": {},
     "output_type": "display_data"
    },
    {
     "data": {
      "text/markdown": [
       "id: int64<br>name: string<br>color: string<br>text_color: string<br>slug: string<br>topic_count: int64<br>post_count: int64<br>position: int64<br>description: string<br>description_text: string<br>description_excerpt: string<br>topic_url: string<br>read_restricted: bool<br>permission: int32<br>notification_level: int64<br>topic_template: string<br>has_children: bool<br>sort_order: string<br>sort_ascending: int32<br>show_subcategory_list: bool<br>num_featured_topics: int64<br>default_view: string<br>subcategory_list_style: string<br>default_top_period: string<br>default_list_filter: string<br>minimum_required_tags: int64<br>navigate_to_first_post_after_read: bool<br>custom_fields: map<string, int32 ('custom_fields')><br>  child 0, custom_fields: struct<key: string not null, value: int32> not null<br>      child 0, key: string not null<br>      child 1, value: int32<br>topics_day: int64<br>topics_week: int64<br>topics_month: int64<br>topics_year: int64<br>topics_all_time: int64<br>subcategory_ids: list<element: int32><br>  child 0, element: int32<br>uploaded_logo: int32<br>uploaded_logo_dark: int32<br>uploaded_background: int32<br>uploaded_background_dark: int64<br>source: string<br>is_uncategorized: bool<br>topics: string"
      ],
      "text/plain": [
       "<IPython.core.display.Markdown object>"
      ]
     },
     "metadata": {},
     "output_type": "display_data"
    },
    {
     "data": {
      "text/html": [
       "<div>\n",
       "<style scoped>\n",
       "    .dataframe tbody tr th:only-of-type {\n",
       "        vertical-align: middle;\n",
       "    }\n",
       "\n",
       "    .dataframe tbody tr th {\n",
       "        vertical-align: top;\n",
       "    }\n",
       "\n",
       "    .dataframe thead th {\n",
       "        text-align: right;\n",
       "    }\n",
       "</style>\n",
       "<table border=\"1\" class=\"dataframe\">\n",
       "  <thead>\n",
       "    <tr style=\"text-align: right;\">\n",
       "      <th></th>\n",
       "      <th>id</th>\n",
       "      <th>name</th>\n",
       "      <th>color</th>\n",
       "      <th>text_color</th>\n",
       "      <th>slug</th>\n",
       "      <th>topic_count</th>\n",
       "      <th>post_count</th>\n",
       "      <th>position</th>\n",
       "      <th>description</th>\n",
       "      <th>description_text</th>\n",
       "      <th>...</th>\n",
       "      <th>topics_year</th>\n",
       "      <th>topics_all_time</th>\n",
       "      <th>subcategory_ids</th>\n",
       "      <th>uploaded_logo</th>\n",
       "      <th>uploaded_logo_dark</th>\n",
       "      <th>uploaded_background</th>\n",
       "      <th>uploaded_background_dark</th>\n",
       "      <th>source</th>\n",
       "      <th>is_uncategorized</th>\n",
       "      <th>topics</th>\n",
       "    </tr>\n",
       "  </thead>\n",
       "  <tbody>\n",
       "    <tr>\n",
       "      <th>0</th>\n",
       "      <td>6</td>\n",
       "      <td>🤖 DAO Governance and Vision</td>\n",
       "      <td>652D90</td>\n",
       "      <td>FFFFFF</td>\n",
       "      <td>governancevision</td>\n",
       "      <td>213</td>\n",
       "      <td>2076</td>\n",
       "      <td>0</td>\n",
       "      <td>Discussions around the coordination, and the o...</td>\n",
       "      <td>Discussions around the coordination, and the o...</td>\n",
       "      <td>...</td>\n",
       "      <td>30</td>\n",
       "      <td>213</td>\n",
       "      <td>[]</td>\n",
       "      <td>NaN</td>\n",
       "      <td>NaN</td>\n",
       "      <td>NaN</td>\n",
       "      <td>NaN</td>\n",
       "      <td>Gitcoin</td>\n",
       "      <td>None</td>\n",
       "      <td>None</td>\n",
       "    </tr>\n",
       "    <tr>\n",
       "      <th>1</th>\n",
       "      <td>18</td>\n",
       "      <td>📌 Policies &amp; Templates</td>\n",
       "      <td>fff700</td>\n",
       "      <td>FFFFFF</td>\n",
       "      <td>policies-and-templates</td>\n",
       "      <td>1</td>\n",
       "      <td>114</td>\n",
       "      <td>1</td>\n",
       "      <td>Find governance policies and proposal template...</td>\n",
       "      <td>Find governance policies and proposal template...</td>\n",
       "      <td>...</td>\n",
       "      <td>0</td>\n",
       "      <td>1</td>\n",
       "      <td>[]</td>\n",
       "      <td>NaN</td>\n",
       "      <td>NaN</td>\n",
       "      <td>NaN</td>\n",
       "      <td>NaN</td>\n",
       "      <td>Gitcoin</td>\n",
       "      <td>None</td>\n",
       "      <td>None</td>\n",
       "    </tr>\n",
       "    <tr>\n",
       "      <th>2</th>\n",
       "      <td>15</td>\n",
       "      <td>🌱 Grants</td>\n",
       "      <td>0088CC</td>\n",
       "      <td>FFFFFF</td>\n",
       "      <td>grants</td>\n",
       "      <td>74</td>\n",
       "      <td>920</td>\n",
       "      <td>2</td>\n",
       "      <td>Everything around Gitcoin Grants, our flagship...</td>\n",
       "      <td>Everything around Gitcoin Grants, our flagship...</td>\n",
       "      <td>...</td>\n",
       "      <td>39</td>\n",
       "      <td>74</td>\n",
       "      <td>[]</td>\n",
       "      <td>NaN</td>\n",
       "      <td>NaN</td>\n",
       "      <td>NaN</td>\n",
       "      <td>NaN</td>\n",
       "      <td>Gitcoin</td>\n",
       "      <td>None</td>\n",
       "      <td>None</td>\n",
       "    </tr>\n",
       "    <tr>\n",
       "      <th>3</th>\n",
       "      <td>5</td>\n",
       "      <td>📜 Proposals</td>\n",
       "      <td>0E76BD</td>\n",
       "      <td>FFFFFF</td>\n",
       "      <td>governance-proposals</td>\n",
       "      <td>175</td>\n",
       "      <td>2925</td>\n",
       "      <td>3</td>\n",
       "      <td>All budget requests for discussion before it g...</td>\n",
       "      <td>All budget requests for discussion before it g...</td>\n",
       "      <td>...</td>\n",
       "      <td>33</td>\n",
       "      <td>175</td>\n",
       "      <td>[]</td>\n",
       "      <td>NaN</td>\n",
       "      <td>NaN</td>\n",
       "      <td>NaN</td>\n",
       "      <td>NaN</td>\n",
       "      <td>Gitcoin</td>\n",
       "      <td>None</td>\n",
       "      <td>None</td>\n",
       "    </tr>\n",
       "  </tbody>\n",
       "</table>\n",
       "<p>4 rows × 41 columns</p>\n",
       "</div>"
      ],
      "text/plain": [
       "   id                         name   color text_color                    slug  \\\n",
       "0   6  🤖 DAO Governance and Vision  652D90     FFFFFF        governancevision   \n",
       "1  18       📌 Policies & Templates  fff700     FFFFFF  policies-and-templates   \n",
       "2  15                     🌱 Grants  0088CC     FFFFFF                  grants   \n",
       "3   5                  📜 Proposals  0E76BD     FFFFFF    governance-proposals   \n",
       "\n",
       "   topic_count  post_count  position  \\\n",
       "0          213        2076         0   \n",
       "1            1         114         1   \n",
       "2           74         920         2   \n",
       "3          175        2925         3   \n",
       "\n",
       "                                         description  \\\n",
       "0  Discussions around the coordination, and the o...   \n",
       "1  Find governance policies and proposal template...   \n",
       "2  Everything around Gitcoin Grants, our flagship...   \n",
       "3  All budget requests for discussion before it g...   \n",
       "\n",
       "                                    description_text  ... topics_year  \\\n",
       "0  Discussions around the coordination, and the o...  ...          30   \n",
       "1  Find governance policies and proposal template...  ...           0   \n",
       "2  Everything around Gitcoin Grants, our flagship...  ...          39   \n",
       "3  All budget requests for discussion before it g...  ...          33   \n",
       "\n",
       "  topics_all_time  subcategory_ids  uploaded_logo  uploaded_logo_dark  \\\n",
       "0             213               []            NaN                 NaN   \n",
       "1               1               []            NaN                 NaN   \n",
       "2              74               []            NaN                 NaN   \n",
       "3             175               []            NaN                 NaN   \n",
       "\n",
       "  uploaded_background  uploaded_background_dark   source  is_uncategorized  \\\n",
       "0                 NaN                       NaN  Gitcoin              None   \n",
       "1                 NaN                       NaN  Gitcoin              None   \n",
       "2                 NaN                       NaN  Gitcoin              None   \n",
       "3                 NaN                       NaN  Gitcoin              None   \n",
       "\n",
       "   topics  \n",
       "0    None  \n",
       "1    None  \n",
       "2    None  \n",
       "3    None  \n",
       "\n",
       "[4 rows x 41 columns]"
      ]
     },
     "metadata": {},
     "output_type": "display_data"
    },
    {
     "data": {
      "text/markdown": [
       "## [public_raw_gitcoin_passport_scores.parquet](#file-listing)"
      ],
      "text/plain": [
       "<IPython.core.display.Markdown object>"
      ]
     },
     "metadata": {},
     "output_type": "display_data"
    },
    {
     "data": {
      "text/markdown": [
       "address: string<br>score: double<br>last_score_timestamp: timestamp[us, tz=UTC]<br>status: string<br>evidence: struct<type: string, success: bool, rawScore: string, threshold: string><br>  child 0, type: string<br>  child 1, success: bool<br>  child 2, rawScore: string<br>  child 3, threshold: string<br>id: int64"
      ],
      "text/plain": [
       "<IPython.core.display.Markdown object>"
      ]
     },
     "metadata": {},
     "output_type": "display_data"
    },
    {
     "data": {
      "text/html": [
       "<div>\n",
       "<style scoped>\n",
       "    .dataframe tbody tr th:only-of-type {\n",
       "        vertical-align: middle;\n",
       "    }\n",
       "\n",
       "    .dataframe tbody tr th {\n",
       "        vertical-align: top;\n",
       "    }\n",
       "\n",
       "    .dataframe thead th {\n",
       "        text-align: right;\n",
       "    }\n",
       "</style>\n",
       "<table border=\"1\" class=\"dataframe\">\n",
       "  <thead>\n",
       "    <tr style=\"text-align: right;\">\n",
       "      <th></th>\n",
       "      <th>address</th>\n",
       "      <th>score</th>\n",
       "      <th>last_score_timestamp</th>\n",
       "      <th>status</th>\n",
       "      <th>evidence</th>\n",
       "      <th>id</th>\n",
       "    </tr>\n",
       "  </thead>\n",
       "  <tbody>\n",
       "    <tr>\n",
       "      <th>0</th>\n",
       "      <td>0x0000000000000000000000000000000000000000</td>\n",
       "      <td>0.0</td>\n",
       "      <td>2024-02-02 09:39:37.386000+00:00</td>\n",
       "      <td>DONE</td>\n",
       "      <td>{'type': 'ThresholdScoreCheck', 'success': Fal...</td>\n",
       "      <td>267616</td>\n",
       "    </tr>\n",
       "    <tr>\n",
       "      <th>1</th>\n",
       "      <td>0x0000000000098341a924bd53454654a0dbbc4e43</td>\n",
       "      <td>0.0</td>\n",
       "      <td>2024-02-01 22:09:51.734000+00:00</td>\n",
       "      <td>DONE</td>\n",
       "      <td>{'type': 'ThresholdScoreCheck', 'success': Fal...</td>\n",
       "      <td>480966</td>\n",
       "    </tr>\n",
       "    <tr>\n",
       "      <th>2</th>\n",
       "      <td>0x00000000000d86e4837ba41dacde4b8713d5ccac</td>\n",
       "      <td>1.0</td>\n",
       "      <td>2024-02-09 13:23:00.227000+00:00</td>\n",
       "      <td>DONE</td>\n",
       "      <td>{'type': 'ThresholdScoreCheck', 'success': Tru...</td>\n",
       "      <td>5118201</td>\n",
       "    </tr>\n",
       "    <tr>\n",
       "      <th>3</th>\n",
       "      <td>0x0000000000ce6d8c1fba76f26d6cc5db71432710</td>\n",
       "      <td>0.0</td>\n",
       "      <td>2024-02-01 22:42:17.357000+00:00</td>\n",
       "      <td>DONE</td>\n",
       "      <td>{'type': 'ThresholdScoreCheck', 'success': Fal...</td>\n",
       "      <td>1783713</td>\n",
       "    </tr>\n",
       "  </tbody>\n",
       "</table>\n",
       "</div>"
      ],
      "text/plain": [
       "                                      address  score  \\\n",
       "0  0x0000000000000000000000000000000000000000    0.0   \n",
       "1  0x0000000000098341a924bd53454654a0dbbc4e43    0.0   \n",
       "2  0x00000000000d86e4837ba41dacde4b8713d5ccac    1.0   \n",
       "3  0x0000000000ce6d8c1fba76f26d6cc5db71432710    0.0   \n",
       "\n",
       "              last_score_timestamp status  \\\n",
       "0 2024-02-02 09:39:37.386000+00:00   DONE   \n",
       "1 2024-02-01 22:09:51.734000+00:00   DONE   \n",
       "2 2024-02-09 13:23:00.227000+00:00   DONE   \n",
       "3 2024-02-01 22:42:17.357000+00:00   DONE   \n",
       "\n",
       "                                            evidence       id  \n",
       "0  {'type': 'ThresholdScoreCheck', 'success': Fal...   267616  \n",
       "1  {'type': 'ThresholdScoreCheck', 'success': Fal...   480966  \n",
       "2  {'type': 'ThresholdScoreCheck', 'success': Tru...  5118201  \n",
       "3  {'type': 'ThresholdScoreCheck', 'success': Fal...  1783713  "
      ]
     },
     "metadata": {},
     "output_type": "display_data"
    },
    {
     "data": {
      "text/markdown": [
       "## [public_raw_giveth_projects.parquet](#file-listing)"
      ],
      "text/plain": [
       "<IPython.core.display.Markdown object>"
      ]
     },
     "metadata": {},
     "output_type": "display_data"
    },
    {
     "data": {
      "text/markdown": [
       "title: string<br>totalDonations: double<br>totalTraceDonations: double"
      ],
      "text/plain": [
       "<IPython.core.display.Markdown object>"
      ]
     },
     "metadata": {},
     "output_type": "display_data"
    },
    {
     "data": {
      "text/html": [
       "<div>\n",
       "<style scoped>\n",
       "    .dataframe tbody tr th:only-of-type {\n",
       "        vertical-align: middle;\n",
       "    }\n",
       "\n",
       "    .dataframe tbody tr th {\n",
       "        vertical-align: top;\n",
       "    }\n",
       "\n",
       "    .dataframe thead th {\n",
       "        text-align: right;\n",
       "    }\n",
       "</style>\n",
       "<table border=\"1\" class=\"dataframe\">\n",
       "  <thead>\n",
       "    <tr style=\"text-align: right;\">\n",
       "      <th></th>\n",
       "      <th>title</th>\n",
       "      <th>totalDonations</th>\n",
       "      <th>totalTraceDonations</th>\n",
       "    </tr>\n",
       "  </thead>\n",
       "  <tbody>\n",
       "    <tr>\n",
       "      <th>0</th>\n",
       "      <td>MetaTrace</td>\n",
       "      <td>2667.9192</td>\n",
       "      <td>0.00</td>\n",
       "    </tr>\n",
       "    <tr>\n",
       "      <th>1</th>\n",
       "      <td>The Giveth Community of Makers</td>\n",
       "      <td>109221.7340</td>\n",
       "      <td>85128.21</td>\n",
       "    </tr>\n",
       "    <tr>\n",
       "      <th>2</th>\n",
       "      <td>Bridging Digital Communities</td>\n",
       "      <td>2853.2332</td>\n",
       "      <td>0.00</td>\n",
       "    </tr>\n",
       "    <tr>\n",
       "      <th>3</th>\n",
       "      <td>Diamante Bridge Collective</td>\n",
       "      <td>68786.1250</td>\n",
       "      <td>0.00</td>\n",
       "    </tr>\n",
       "  </tbody>\n",
       "</table>\n",
       "</div>"
      ],
      "text/plain": [
       "                            title  totalDonations  totalTraceDonations\n",
       "0                       MetaTrace       2667.9192                 0.00\n",
       "1  The Giveth Community of Makers     109221.7340             85128.21\n",
       "2    Bridging Digital Communities       2853.2332                 0.00\n",
       "3     Diamante Bridge Collective       68786.1250                 0.00"
      ]
     },
     "metadata": {},
     "output_type": "display_data"
    }
   ],
   "source": [
    "# | echo: false\n",
    "# | output: asis\n",
    "print_file_sections(raw_files, with_schema=True)"
   ]
  }
 ],
 "metadata": {
  "kernelspec": {
   "display_name": "Python 3",
   "language": "python",
   "name": "python3"
  },
  "language_info": {
   "codemirror_mode": {
    "name": "ipython",
    "version": 3
   },
   "file_extension": ".py",
   "mimetype": "text/x-python",
   "name": "python",
   "nbconvert_exporter": "python",
   "pygments_lexer": "ipython3",
   "version": "3.11.8"
  }
 },
 "nbformat": 4,
 "nbformat_minor": 2
}
